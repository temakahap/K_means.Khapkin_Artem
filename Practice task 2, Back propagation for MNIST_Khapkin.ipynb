{
 "cells": [
  {
   "cell_type": "markdown",
   "metadata": {},
   "source": [
    "## Семинар 2 \"Распознавание рукописных цифр\""
   ]
  },
  {
   "cell_type": "markdown",
   "metadata": {},
   "source": [
    "ФИО: "
   ]
  },
  {
   "cell_type": "markdown",
   "metadata": {},
   "source": [
    "В этом задании мы используем нейронную сеть из предыдущего семинара для распознавания рукописных цифр. Также мы исследуем как влияет выбор нелинейности и предобработка данных на качество классификации. \n",
    "\n",
    "Чтобы не тратить время на подготовку данных, мы прилагаем готовый код с примером использования для получения обучающей и тестовой выборок. Для запуска скрипта вам понадобится библиотека PyTorch (инструкции по установке можно найти на сайте <a href=\"http://pytorch.org\">pytorch.org</a>)"
   ]
  },
  {
   "cell_type": "code",
   "execution_count": 44,
   "metadata": {
    "collapsed": true
   },
   "outputs": [],
   "source": [
    "import matplotlib.pyplot as plt\n",
    "from torch.utils.data import DataLoader\n",
    "from torchvision.datasets import MNIST\n",
    "from torchvision import transforms\n",
    "import numpy as np\n",
    "%matplotlib inline"
   ]
  },
  {
   "cell_type": "code",
   "execution_count": 45,
   "metadata": {
    "collapsed": false
   },
   "outputs": [],
   "source": [
    "to_numpy = lambda x: x.numpy()\n",
    "transform = transforms.Compose([\n",
    "                       transforms.ToTensor(),\n",
    "                       transforms.Normalize((0.1307,), (0.3081,))\n",
    "                    ])\n",
    "train_dataset = MNIST('.', train=True, download=True, transform=transform)\n",
    "test_dataset = MNIST('.', train=False, transform=transform)\n",
    "\n",
    "train_loader = DataLoader(train_dataset, batch_size=32, shuffle=True)\n",
    "test_loader = DataLoader(test_dataset, batch_size=32, shuffle=True)"
   ]
  },
  {
   "cell_type": "code",
   "execution_count": 46,
   "metadata": {
    "collapsed": false
   },
   "outputs": [],
   "source": [
    "## Usage example:\n",
    "t= 0\n",
    "train_list = []\n",
    "train_label_list = []\n",
    "for X, y in train_loader:\n",
    "    X = X.view(X.size(0), -1)\n",
    "    t+=1\n",
    "    X = X.numpy() ### Converts torch.Tensor to numpy array\n",
    "    y = y.numpy()\n",
    "    for i in X:\n",
    "        train_list.append(i)\n",
    "    for j in y:\n",
    "        train_label_list.append(j)\n",
    "    \n",
    "    pass"
   ]
  },
  {
   "cell_type": "code",
   "execution_count": 47,
   "metadata": {
    "collapsed": false
   },
   "outputs": [],
   "source": [
    "X_train = np.array(train_list)\n",
    "y_train = np.array(train_label_list)"
   ]
  },
  {
   "cell_type": "code",
   "execution_count": 48,
   "metadata": {
    "collapsed": false
   },
   "outputs": [
    {
     "data": {
      "image/png": "[encoded data removed]",
      "text/plain": [
       "<matplotlib.figure.Figure at 0x7fc3eb317c18>"
      ]
     },
     "metadata": {},
     "output_type": "display_data"
    }
   ],
   "source": [
    "plt.figure(figsize=(6, 7))\n",
    "for i in range(25):\n",
    "    plt.subplot(5, 5, i+1)\n",
    "    plt.imshow(X[i].reshape(28, 28), cmap=plt.cm.Greys_r)\n",
    "    plt.title(y[i])\n",
    "    plt.axis('off')"
   ]
  },
  {
   "cell_type": "markdown",
   "metadata": {},
   "source": [
    "### Часть 1: MNIST\n",
    "Обучите полносвязную нейронную сеть с архитектурой 784-100-100-10 и сигмоидой в качестве нелинейности. Какую точность классификации удалось получить? Нарисуйте график сходимости на обучающей и тестовой выборках. В качестве темпа обучения (learning rate) возьмите 0.01"
   ]
  },
  {
   "cell_type": "markdown",
   "metadata": {},
   "source": [
    "Линейная функция."
   ]
  },
  {
   "cell_type": "code",
   "execution_count": 49,
   "metadata": {
    "collapsed": true
   },
   "outputs": [],
   "source": [
    "class Linear:\n",
    "    def __init__(self, input_size, output_size):\n",
    "        '''\n",
    "        Creates weights and biases for linear layer.\n",
    "        Dimention of inputs is *input_size*, of output: *output_size*.\n",
    "        '''\n",
    "        #### YOUR CODE HERE\n",
    "        #### Create weights, initialize them with samples from N(0, 0.1).\n",
    "        self.input_size = input_size\n",
    "        self.output_size = output_size\n",
    "        self.weights = np.random.normal(0, 0.1, (input_size + 1, output_size))\n",
    "        self.dLdw = 0\n",
    "        self.X = 0\n",
    "        \n",
    "        return\n",
    "    \n",
    "    def forward(self, X):\n",
    "        '''\n",
    "        Passes objects through this layer.\n",
    "        X is np.array of size d\n",
    "        '''\n",
    "        #### YOUR CODE HERE\n",
    "        #### Apply layer to input\n",
    "        self.X = X\n",
    "        \n",
    "        return np.dot(np.hstack((X, np.ones((X.shape[0], 1)))), self.weights)\n",
    "    \n",
    "    def backward(self, dLdy):\n",
    "        '''\n",
    "        1. Compute dLdw and dLdx.\n",
    "        2. Store dLdw for step() call\n",
    "        3. Return dLdx\n",
    "        '''\n",
    "        #### YOUR CODE HERE\n",
    "        dLdx = np.dot(dLdy, self.weights[:len(self.weights) - 1].T)  \n",
    "        self.dLdw = np.dot(np.vstack((self.X.T, np.ones(self.X.shape[0]))), dLdy)\n",
    "        \n",
    "        return dLdx\n",
    "    \n",
    "    def step(self, learning_rate):\n",
    "        '''\n",
    "        1. Apply gradient dLdw to network:\n",
    "        w <- w - l*dLdw\n",
    "        '''\n",
    "        #### YOUR CODE HERE\n",
    "        self.weights = self.weights + self.dLdw * learning_rate"
   ]
  },
  {
   "cell_type": "markdown",
   "metadata": {},
   "source": [
    "Класс нелинейных функций."
   ]
  },
  {
   "cell_type": "code",
   "execution_count": 50,
   "metadata": {
    "collapsed": true
   },
   "outputs": [],
   "source": [
    "class Sigmoid:\n",
    "    def __init__(self):\n",
    "        self.X = np.array([])\n",
    "        pass\n",
    "    \n",
    "    def forward(self, X):\n",
    "        '''\n",
    "        Passes objects through this layer.\n",
    "        X is np.array of size d\n",
    "        '''\n",
    "        #### YOUR CODE HERE\n",
    "        #### Apply layer to input\n",
    "        \n",
    "        self.X = X\n",
    "        \n",
    "        return 1.0 / (1.0 + np.exp(-1 * X))\n",
    "    \n",
    "    def backward(self, dLdy):\n",
    "        '''\n",
    "        1. Compute dLdx.\n",
    "        2. Return dLdx\n",
    "        '''\n",
    "        #### YOUR CODE HERE\n",
    "        \n",
    "        m = np.exp(self.X)\n",
    "        #print(dLdy.shape, self.X.shape)\n",
    "    \n",
    "        return dLdy * (m / (m + 1.0)**2)\n",
    "    \n",
    "    def step(self, learning_rate):\n",
    "        pass\n",
    "    \n",
    "\n",
    "    \n",
    "    \n",
    "    \n",
    "class RELU:\n",
    "    def __init__(self):\n",
    "        self.X = np.array([])\n",
    "        pass\n",
    "    \n",
    "    def forward(self, X):\n",
    "        '''\n",
    "        Passes objects through this layer.\n",
    "        X is np.array of size d\n",
    "        '''\n",
    "        #### YOUR CODE HERE\n",
    "        #### Apply layer to input\n",
    "        self.X = X\n",
    "        m = np.array([[max(X[i][j], 0) for j in range(len(X[0]))] for i in range(len(self.X))])\n",
    "        \n",
    "        return m\n",
    "    \n",
    "    def backward(self, dLdy):\n",
    "        '''\n",
    "        1. Compute dLdx.\n",
    "        2. Return dLdx\n",
    "        '''\n",
    "        #### YOUR CODE HERE\n",
    "        \n",
    "        #print(dLdy.shape, self.X.shape)\n",
    "        \n",
    "        \n",
    "        return dLdy * (self.X > 0)\n",
    "    \n",
    "    def step(self, learning_rate):\n",
    "        pass\n",
    "  \n",
    "\n",
    "\n",
    "\n",
    "\n",
    "\n",
    "class ELU:\n",
    "    def __init__(self):\n",
    "        self.X = np.array([])\n",
    "        pass\n",
    "    \n",
    "    def forward(self, X):\n",
    "        self.X = X\n",
    "        return  X * (X > 0) + 0.5 * (np.exp(X * (self.X <= 0)) - 1) * (self.X <= 0)\n",
    "\n",
    "\n",
    "    \n",
    "    \n",
    "    def backward(self, dLdy):\n",
    "        return dLdy * (1.0 * (self.X > 0) + (0.5 * (np.exp(self.X * (self.X <= 0)) - 1) + 0.5) * (self.X <= 0))\n",
    "    \n",
    "    \n",
    "    def step(self, learning_rate):\n",
    "        pass\n",
    "    \n",
    "    \n",
    "    \n",
    "    "
   ]
  },
  {
   "cell_type": "markdown",
   "metadata": {},
   "source": [
    "Soft-max функция"
   ]
  },
  {
   "cell_type": "code",
   "execution_count": 51,
   "metadata": {
    "collapsed": false
   },
   "outputs": [],
   "source": [
    "class NLLLoss:\n",
    "    def __init__(self):\n",
    "        '''\n",
    "        Applies Softmax operation to inputs and computes NLL loss\n",
    "        '''\n",
    "        #### YOUR CODE HERE\n",
    "        #### (Hint: No code is expected here, just joking)\n",
    "        self.X = np.array([])\n",
    "        self.y = np.array([])\n",
    "        pass\n",
    "    \n",
    "    def forward(self, X, y):\n",
    "        '''\n",
    "        Passes objects through this layer.\n",
    "        X is np.array of size (N, d)\n",
    "        y is np.array of size (N), contains correct labels\n",
    "        '''\n",
    "        #### YOUR CODE HERE\n",
    "        #### Apply layer to input\n",
    "    \n",
    "    \n",
    "    \n",
    "    \n",
    "    \n",
    "        self.X = X\n",
    "        self.y = y\n",
    "   \n",
    "        def ch(T):\n",
    "            q = T.max() + np.exp(T - T.max())\n",
    "            return q.sum()\n",
    "        \n",
    "        t_1 = np.array(list(map(ch, X)))\n",
    "        t_2 = []\n",
    "        for i in range(len(X)):\n",
    "            t_2.append(X[i][self.y[i]] - X[i].max())\n",
    "            \n",
    "        \n",
    "        \n",
    "        return ((np.array(t_2) - np.log(t_1))/len(X)).sum()\n",
    "    \n",
    "    \n",
    "\n",
    "    def backward(self):\n",
    "        '''\n",
    "        Note that here \n",
    "        dLdy = 1 since L = y\n",
    "        1. Compute dLdx\n",
    "        2. Return dLdx\n",
    "        '''\n",
    "        #### YOUR CODE HERE\n",
    "        res = np.exp(self.X)\n",
    "        r = np.array([res[i].sum() for i in range(len(self.X))])\n",
    "        \n",
    "        for i in range(len(self.X)):\n",
    "            res[i] /= -r[i]\n",
    "        for i in range(len(self.X)):\n",
    "            \n",
    "            res[i][self.y[i]] += 1.0\n",
    "        \n",
    "        \n",
    "        return res*(1/len(X))"
   ]
  },
  {
   "cell_type": "code",
   "execution_count": 52,
   "metadata": {
    "collapsed": false
   },
   "outputs": [
    {
     "name": "stdout",
     "output_type": "stream",
     "text": [
      "[[1 2]\n",
      " [3 4]\n",
      " [6 8]]\n"
     ]
    },
    {
     "data": {
      "text/plain": [
       "array([ 1.36787944,  1.36787944,  1.13533528])"
      ]
     },
     "execution_count": 52,
     "metadata": {},
     "output_type": "execute_result"
    }
   ],
   "source": [
    "def ch(T):\n",
    "    return np.exp(T - T.max()).sum()\n",
    "a = np.array([[1,2], [3,4], [6,8]])\n",
    "print (a)\n",
    "b = np.array(list(map(ch, a)))\n",
    "b"
   ]
  },
  {
   "cell_type": "code",
   "execution_count": 53,
   "metadata": {
    "collapsed": false
   },
   "outputs": [
    {
     "data": {
      "text/plain": [
       "-1.6917121487243629"
      ]
     },
     "execution_count": 53,
     "metadata": {},
     "output_type": "execute_result"
    }
   ],
   "source": [
    "nll = NLLLoss()\n",
    "a = np.array([[1,1],[2,3],])\n",
    "b = np.array([1,1])\n",
    "nll.forward(a,b)"
   ]
  },
  {
   "cell_type": "code",
   "execution_count": 54,
   "metadata": {
    "collapsed": false
   },
   "outputs": [
    {
     "data": {
      "text/plain": [
       "-1.6917121487243629"
      ]
     },
     "execution_count": 54,
     "metadata": {},
     "output_type": "execute_result"
    }
   ],
   "source": [
    "nll = NLLLoss()\n",
    "a = np.array([[1,1],[2,3]])\n",
    "b = np.array([1,1])\n",
    "nll.forward(a,b)"
   ]
  },
  {
   "cell_type": "markdown",
   "metadata": {},
   "source": [
    "Нейронная сеть"
   ]
  },
  {
   "cell_type": "code",
   "execution_count": 63,
   "metadata": {
    "collapsed": true
   },
   "outputs": [],
   "source": [
    "class NeuralNetwork:\n",
    "    def __init__(self, modules):\n",
    "        '''\n",
    "        Constructs network with *modules* as its layers\n",
    "        '''\n",
    "        #### YOUR CODE HERE\n",
    "        self.modules = modules\n",
    "        pass\n",
    "    \n",
    "    def forward(self, X):\n",
    "        #### YOUR CODE HERE\n",
    "        #### Apply layers to input\n",
    "        res = X\n",
    "        for module in self.modules:\n",
    "            res = module.forward(res)\n",
    "        return res\n",
    "    \n",
    "    def backward(self, dLdy):\n",
    "        '''\n",
    "        dLdy here is a gradient from loss function\n",
    "        '''\n",
    "        #### YOUR CODE HERE\n",
    "        d = dLdy\n",
    "        for module in self.modules[::-1]:\n",
    "            d = module.backward(d)\n",
    "    \n",
    "    def step(self, learning_rate):\n",
    "        for module in self.modules:\n",
    "            module.step(learning_rate)"
   ]
  },
  {
   "cell_type": "code",
   "execution_count": 64,
   "metadata": {
    "collapsed": true
   },
   "outputs": [],
   "source": [
    "m = [Linear(784, 100), Sigmoid(), Linear(100, 100), Sigmoid(), Linear(100, 10)]\n",
    "m = [Linear(784, 100), RELU(), Linear(100, 100), RELU(), Linear(100, 10)]\n",
    "m = [Linear(784, 100), ELU(), Linear(100, 100), ELU(), Linear(100, 10)]\n",
    "\n",
    "nll = NLLLoss()\n",
    "nn = NeuralNetwork(m)"
   ]
  },
  {
   "cell_type": "markdown",
   "metadata": {},
   "source": [
    "Обучим для начала с сигмоидой.\n"
   ]
  },
  {
   "cell_type": "code",
   "execution_count": 235,
   "metadata": {
    "collapsed": true
   },
   "outputs": [],
   "source": [
    "m = [Linear(784, 100), Sigmoid(), Linear(100, 100), Sigmoid(), Linear(100, 10)]\n",
    "nll = NLLLoss()\n",
    "nn = NeuralNetwork(m)"
   ]
  },
  {
   "cell_type": "code",
   "execution_count": 236,
   "metadata": {
    "collapsed": false
   },
   "outputs": [
    {
     "name": "stdout",
     "output_type": "stream",
     "text": [
      "0\n",
      "-2.85919170275\n",
      "-2.41981067794\n",
      "2\n",
      "-2.32676390653\n",
      "-2.32774630704\n",
      "4\n",
      "-2.32003272094\n",
      "-2.31553327074\n",
      "6\n",
      "-2.31197366069\n",
      "-2.30958762271\n",
      "8\n",
      "-2.3082564589\n",
      "-2.30789744638\n",
      "10\n",
      "-2.3084437446\n",
      "-2.30982393068\n",
      "12\n",
      "-2.311998096\n",
      "-2.3149289711\n",
      "14\n",
      "-2.31859837078\n",
      "-2.32299254606\n",
      "16\n",
      "-2.32810983995\n",
      "-2.33393371589\n",
      "18\n",
      "-2.34046260182\n",
      "-2.34770094179\n",
      "20\n",
      "-2.35565890563\n",
      "-2.36433130109\n",
      "22\n",
      "-2.37372181444\n",
      "-2.38382686186\n",
      "24\n",
      "-2.39464774533\n",
      "-2.4061695239\n",
      "26\n",
      "-2.41838215188\n",
      "-2.4312647866\n",
      "28\n",
      "-2.4447993781\n",
      "-2.4589651047\n"
     ]
    }
   ],
   "source": [
    "import math\n",
    "from math import exp, log\n",
    "tl = 0\n",
    "flag = []\n",
    "itera = 30\n",
    "for j in range(itera):\n",
    "    if (j%2 == 0):\n",
    "        print (j)\n",
    "    tl = 0\n",
    "    ind = 0\n",
    "    res = nn.forward(X_train)\n",
    "    loss = nll.forward(res, y_train)\n",
    "    nn.backward(nll.backward())\n",
    "    nn.step(0.0001)\n",
    "    flag.append(loss)\n",
    "    print (loss)"
   ]
  },
  {
   "cell_type": "code",
   "execution_count": 237,
   "metadata": {
    "collapsed": false
   },
   "outputs": [
    {
     "data": {
      "text/plain": [
       "[<matplotlib.lines.Line2D at 0x7fc3faf3b860>]"
      ]
     },
     "execution_count": 237,
     "metadata": {},
     "output_type": "execute_result"
    },
    {
     "data": {
      "image/png": "[encoded data removed]",
      "text/plain": [
       "<matplotlib.figure.Figure at 0x7fc3fa9c4f28>"
      ]
     },
     "metadata": {},
     "output_type": "display_data"
    }
   ],
   "source": [
    "plt.plot(range(itera), -1*np.array(flag))\n"
   ]
  },
  {
   "cell_type": "code",
   "execution_count": 238,
   "metadata": {
    "collapsed": true
   },
   "outputs": [],
   "source": [
    "#Проверим качество на тестовой выборке\n",
    "t= 0\n",
    "test_list = []\n",
    "test_label_list = []\n",
    "for X, y in test_loader:\n",
    "    X = X.view(X.size(0), -1)\n",
    "    t+=1\n",
    "    X = X.numpy() ### Converts torch.Tensor to numpy array\n",
    "    y = y.numpy()\n",
    "    for i in X:\n",
    "        test_list.append(i)\n",
    "    for j in y:\n",
    "        test_label_list.append(j)\n",
    "    \n",
    "    pass"
   ]
  },
  {
   "cell_type": "code",
   "execution_count": 239,
   "metadata": {
    "collapsed": true
   },
   "outputs": [],
   "source": [
    "X_test = np.array(test_list)\n",
    "y_test = np.array(test_label_list)"
   ]
  },
  {
   "cell_type": "code",
   "execution_count": 240,
   "metadata": {
    "collapsed": false
   },
   "outputs": [
    {
     "name": "stdout",
     "output_type": "stream",
     "text": [
      "0.6051\n"
     ]
    }
   ],
   "source": [
    "labels = []\n",
    "res = nn.forward(X_test)\n",
    "res = np.exp(res) / np.exp(res).sum()\n",
    "labels.append([res[i].argmax() for i in range(len(y_test))])\n",
    "from sklearn.metrics import accuracy_score\n",
    "SIGM_acc_noaug = accuracy_score(np.array(labels).reshape(-1), y_test)\n",
    "print (SIGM_acc_noaug)"
   ]
  },
  {
   "cell_type": "markdown",
   "metadata": {},
   "source": [
    "### Часть 2: Нелинейности"
   ]
  },
  {
   "cell_type": "code",
   "execution_count": null,
   "metadata": {
    "collapsed": true
   },
   "outputs": [],
   "source": []
  },
  {
   "cell_type": "markdown",
   "metadata": {},
   "source": [
    "Обучите нейронную сеть с другими нелинейностями: ReLU и ELU. Сравните скорости сходимости и качество классификации с различными функциями активации."
   ]
  },
  {
   "cell_type": "code",
   "execution_count": 74,
   "metadata": {
    "collapsed": false
   },
   "outputs": [
    {
     "name": "stdout",
     "output_type": "stream",
     "text": [
      "0\n",
      "-4.72248950751\n",
      "-4.71951497452\n",
      "-3.92538789071\n",
      "-3.21583260136\n",
      "-3.23810347617\n",
      "5\n",
      "-3.3873697741\n",
      "-3.48134421493\n",
      "-3.60220164497\n",
      "-3.68506809107\n",
      "-3.79489220012\n",
      "10\n",
      "-3.87000535043\n",
      "-4.11662418399\n",
      "-4.40230416754\n",
      "-4.45277113713\n",
      "-4.21132403221\n",
      "15\n",
      "-4.01510231713\n",
      "-3.95724924075\n",
      "-3.9868316482\n",
      "-4.01941592026\n",
      "-4.0594840962\n",
      "20\n",
      "-4.10647145659\n",
      "-4.15970454265\n",
      "-4.25968883865\n",
      "-4.42704364658\n",
      "-4.36537035408\n",
      "25\n",
      "-4.27107853268\n",
      "-4.20315352757\n",
      "-4.15073964556\n",
      "-4.16796796378\n",
      "-4.17289967248\n"
     ]
    }
   ],
   "source": [
    "#RELU\n",
    "m = [Linear(784, 100), RELU(), Linear(100, 100), RELU(), Linear(100, 10)]\n",
    "nll = NLLLoss()\n",
    "nn = NeuralNetwork(m)\n",
    "\n",
    "import math\n",
    "from math import exp, log\n",
    "tl = 0\n",
    "flag = []\n",
    "itera = 30\n",
    "for j in range(itera):\n",
    "    if (j%5 == 0):\n",
    "        print (j)\n",
    "    tl = 0\n",
    "    ind = 0\n",
    "    res = nn.forward(X_train)\n",
    "    loss = nll.forward(res, y_train)\n",
    "    nn.backward(nll.backward())\n",
    "    nn.step(0.00005)\n",
    "    flag.append(loss)\n",
    "    print (loss)"
   ]
  },
  {
   "cell_type": "code",
   "execution_count": 75,
   "metadata": {
    "collapsed": false
   },
   "outputs": [
    {
     "name": "stdout",
     "output_type": "stream",
     "text": [
      "0.8826\n"
     ]
    },
    {
     "data": {
      "image/png": "[encoded data removed]",
      "text/plain": [
       "<matplotlib.figure.Figure at 0x7fc3fb0d62b0>"
      ]
     },
     "metadata": {},
     "output_type": "display_data"
    }
   ],
   "source": [
    "plt.plot(range(itera), -1*np.array(flag))\n",
    "from sklearn.metrics import accuracy_score\n",
    "labels = []\n",
    "res = nn.forward(X_test)\n",
    "res = np.exp(res) / np.exp(res).sum()\n",
    "labels.append([res[i].argmax() for i in range(len(y_test))])\n",
    "RELU_acc_noaug = accuracy_score(np.array(labels).reshape(-1), y_test)\n",
    "print (RELU_acc_noaug)"
   ]
  },
  {
   "cell_type": "markdown",
   "metadata": {},
   "source": [
    "ELU"
   ]
  },
  {
   "cell_type": "code",
   "execution_count": 76,
   "metadata": {
    "collapsed": false
   },
   "outputs": [
    {
     "name": "stdout",
     "output_type": "stream",
     "text": [
      "0\n",
      "-5.19123367306\n",
      "-5.14036517418\n",
      "2\n",
      "-4.41204772438\n",
      "-3.44262111734\n",
      "4\n",
      "-3.40824086559\n",
      "-3.49219853005\n",
      "6\n",
      "-3.59347024996\n",
      "-3.68242653325\n",
      "8\n",
      "-3.75988822041\n",
      "-3.82481104387\n",
      "10\n",
      "-3.8805214095\n",
      "-3.92767762769\n",
      "12\n",
      "-3.96912527738\n",
      "-4.00478938867\n",
      "14\n",
      "-4.03679676131\n",
      "-4.06461242341\n",
      "16\n",
      "-4.09027981725\n",
      "-4.1125420384\n",
      "18\n",
      "-4.13362225089\n",
      "-4.15156122986\n",
      "20\n",
      "-4.16942353009\n",
      "-4.18394215811\n",
      "22\n",
      "-4.19977161866\n",
      "-4.21170078634\n",
      "24\n",
      "-4.22710141428\n",
      "-4.23752574259\n",
      "26\n",
      "-4.25652778368\n",
      "-4.26938457984\n",
      "28\n",
      "-4.30552115288\n",
      "-4.33473499215\n"
     ]
    }
   ],
   "source": [
    "#ELU\n",
    "m = [Linear(784, 100), ELU(), Linear(100, 100), ELU(), Linear(100, 10)]\n",
    "nll = NLLLoss()\n",
    "nn = NeuralNetwork(m)\n",
    "\n",
    "import math\n",
    "from math import exp, log\n",
    "tl = 0\n",
    "flag = []\n",
    "itera = 30\n",
    "for j in range(itera):\n",
    "    if (j%2 == 0):\n",
    "        print (j)\n",
    "    tl = 0\n",
    "    ind = 0\n",
    "    res = nn.forward(X_train)\n",
    "    loss = nll.forward(res, y_train)\n",
    "    nn.backward(nll.backward())\n",
    "    nn.step(0.00005)\n",
    "    flag.append(loss)\n",
    "    print (loss)"
   ]
  },
  {
   "cell_type": "code",
   "execution_count": 77,
   "metadata": {
    "collapsed": false
   },
   "outputs": [
    {
     "name": "stdout",
     "output_type": "stream",
     "text": [
      "0.8325\n"
     ]
    },
    {
     "data": {
      "image/png": "[encoded data removed]",
      "text/plain": [
       "<matplotlib.figure.Figure at 0x7fc3fb088c88>"
      ]
     },
     "metadata": {},
     "output_type": "display_data"
    }
   ],
   "source": [
    "plt.plot(range(itera), -1*np.array(flag))\n",
    "labels = []\n",
    "res = nn.forward(X_test)\n",
    "res = np.exp(res) / np.exp(res).sum()\n",
    "labels.append([res[i].argmax() for i in range(len(y_test))])\n",
    "from sklearn.metrics import accuracy_score\n",
    "ELU_acc_noaug = accuracy_score(np.array(labels).reshape(-1), y_test)\n",
    "print (ELU_acc_noaug)"
   ]
  },
  {
   "cell_type": "markdown",
   "metadata": {},
   "source": [
    "### Часть 3: Предобработка данных"
   ]
  },
  {
   "cell_type": "markdown",
   "metadata": {},
   "source": [
    "Посчитайте на всей обучающей выборке матрицу ковариации и среднее. Нормализуйте данные по схеме: вычесть среднее, декоррелировать, нормировать дисперсию. Сравните графики обучения на одной и той же архитектуре с и без предобработки."
   ]
  },
  {
   "cell_type": "code",
   "execution_count": 220,
   "metadata": {
    "collapsed": false
   },
   "outputs": [],
   "source": [
    "from numpy import linalg\n",
    "import scipy\n",
    "from numpy.linalg import inv\n",
    "from scipy.linalg import sqrtm\n",
    "itera = 30"
   ]
  },
  {
   "cell_type": "code",
   "execution_count": 221,
   "metadata": {
    "collapsed": true
   },
   "outputs": [],
   "source": [
    "def mat(X):\n",
    "    Cov = (1/len(X)) * (X.T).dot(X)\n",
    "    I = scipy.eye(len(X.T),len(X.T))\n",
    "    #Cov_inv = inv(Cov+I)\n",
    "    #Cov_sqrt = sqrtm(Cov_inv)\n",
    "    #Cov_sqrt = sqrtm(Cov + I)\n",
    "    A = np.linalg.svd(Cov)\n",
    "    a_1 = A[1]**(-1/2)\n",
    "    print (len(a_1))\n",
    "    \n",
    "    return (A[0].dot(a_1*I)).dot(A[2])\n",
    "\n",
    "def mat2(X):\n",
    "    X_1 = X - X.mean()\n",
    "    X_2 = mat(X_1[:10000]).dot(X_1.T)\n",
    "    X_3 = X_2/X_2.std()\n",
    "    return X_3.T"
   ]
  },
  {
   "cell_type": "code",
   "execution_count": 222,
   "metadata": {
    "collapsed": false
   },
   "outputs": [
    {
     "name": "stdout",
     "output_type": "stream",
     "text": [
      "784\n",
      "784\n"
     ]
    }
   ],
   "source": [
    "X_train_final = mat2(X_train)\n",
    "X_test_final = mat2(X_test)"
   ]
  },
  {
   "cell_type": "code",
   "execution_count": 223,
   "metadata": {
    "collapsed": false
   },
   "outputs": [
    {
     "data": {
      "text/plain": [
       "(10000, 784)"
      ]
     },
     "execution_count": 223,
     "metadata": {},
     "output_type": "execute_result"
    }
   ],
   "source": [
    "X_train_final.shape\n",
    "X_test_final.shape"
   ]
  },
  {
   "cell_type": "code",
   "execution_count": 224,
   "metadata": {
    "collapsed": false
   },
   "outputs": [
    {
     "data": {
      "text/plain": [
       "array([[ 8.,  0.,  0.],\n",
       "       [ 0.,  8.,  0.],\n",
       "       [ 0.,  0.,  8.]])"
      ]
     },
     "execution_count": 224,
     "metadata": {},
     "output_type": "execute_result"
    }
   ],
   "source": [
    "A = np.linalg.svd(X_test[:3])\n",
    "A[1]**(1/2)\n",
    "a = np.array([4,4,4])\n",
    "a**(-1/2)\n",
    "X_train_final.shape\n",
    "v = 2*scipy.eye(3,3)\n",
    "v*a"
   ]
  },
  {
   "cell_type": "code",
   "execution_count": 225,
   "metadata": {
    "collapsed": false
   },
   "outputs": [
    {
     "name": "stdout",
     "output_type": "stream",
     "text": [
      "0\n"
     ]
    },
    {
     "name": "stderr",
     "output_type": "stream",
     "text": [
      "/home/temkahap/anaconda3/lib/python3.5/site-packages/ipykernel/__main__.py:28: RuntimeWarning: overflow encountered in square\n"
     ]
    },
    {
     "name": "stdout",
     "output_type": "stream",
     "text": [
      "-3.35466061567\n",
      "-9.64690201072\n",
      "-5.69595958544\n",
      "-3.0720181392\n",
      "-2.72744920055\n",
      "5\n",
      "-2.58043695036\n",
      "-2.49655935916\n",
      "-2.44869233007\n",
      "-2.42239304132\n",
      "-2.40869360558\n",
      "10\n",
      "-2.40196021227\n",
      "-2.39885488232\n",
      "-2.39753257853\n",
      "-2.39703899614\n",
      "-2.39690503457\n",
      "15\n",
      "-2.39690899218\n",
      "-2.39695589869\n",
      "-2.39700654223\n",
      "-2.39704812575\n",
      "-2.39707836122\n",
      "20\n",
      "-2.39709865233\n",
      "-2.39711092339\n",
      "-2.39711620693\n",
      "-2.39711966945\n",
      "-2.39712300262\n",
      "25\n",
      "-2.39712479849\n",
      "-2.39712552524\n",
      "-2.39712558681\n",
      "-2.39712525028\n",
      "-2.39712468484\n"
     ]
    }
   ],
   "source": [
    "#Поехали, сигмоида\n",
    "\n",
    "m = [Linear(784, 100), Sigmoid(), Linear(100, 100), Sigmoid(), Linear(100, 10)]\n",
    "nll = NLLLoss()\n",
    "nn = NeuralNetwork(m)\n",
    "\n",
    "import math\n",
    "from math import exp, log\n",
    "tl = 0\n",
    "flag = []\n",
    "for j in range(itera):\n",
    "    if (j%5 == 0):\n",
    "        print (j)\n",
    "    tl = 0\n",
    "    ind = 0\n",
    "    res = nn.forward(X_train_final)\n",
    "    loss = nll.forward(res, y_train)\n",
    "    nn.backward(nll.backward())\n",
    "    nn.step(0.001)\n",
    "    flag.append(loss)\n",
    "    print (loss)"
   ]
  },
  {
   "cell_type": "code",
   "execution_count": 226,
   "metadata": {
    "collapsed": false
   },
   "outputs": [
    {
     "name": "stdout",
     "output_type": "stream",
     "text": [
      "0.1153\n"
     ]
    },
    {
     "data": {
      "image/png": "[encoded data removed]",
      "text/plain": [
       "<matplotlib.figure.Figure at 0x7fc3fafab390>"
      ]
     },
     "metadata": {},
     "output_type": "display_data"
    }
   ],
   "source": [
    "plt.plot(range(itera), -1*np.array(flag))\n",
    "labels = []\n",
    "res = nn.forward(X_test_final)\n",
    "res = np.exp(res) / np.exp(res).sum()\n",
    "labels.append([res[i].argmax() for i in range(len(y_test))])\n",
    "from sklearn.metrics import accuracy_score\n",
    "SIGM_acc_aug = accuracy_score(np.array(labels).reshape(-1), y_test)\n",
    "print (SIGM_acc_aug)\n"
   ]
  },
  {
   "cell_type": "code",
   "execution_count": 227,
   "metadata": {
    "collapsed": false
   },
   "outputs": [
    {
     "name": "stdout",
     "output_type": "stream",
     "text": [
      "0.4951 -точность классфикатора без аугментации данных\n",
      "0.1153 -точность классфикатора с аугментации данных\n"
     ]
    }
   ],
   "source": [
    "print(SIGM_acc_noaug, \"-точность классфикатора без аугментации данных\")\n",
    "print(SIGM_acc_aug, \"-точность классфикатора с аугментации данных\")"
   ]
  },
  {
   "cell_type": "code",
   "execution_count": 210,
   "metadata": {
    "collapsed": false
   },
   "outputs": [
    {
     "name": "stdout",
     "output_type": "stream",
     "text": [
      "0\n",
      "-4.77166051263\n",
      "-6.08040424098\n",
      "-5.55073456585\n",
      "-3.8550537169\n",
      "-3.25231482436\n",
      "5\n",
      "-2.94761020078\n",
      "-2.77349916051\n",
      "-2.93150243666\n",
      "-3.01593452602\n",
      "-3.52517276076\n",
      "10\n",
      "-4.91750237935\n",
      "-4.89833972972\n",
      "-3.49758601704\n",
      "-2.80608529742\n",
      "-3.20131292456\n",
      "15\n",
      "-3.06121861956\n",
      "-4.17604228965\n",
      "-5.31513409701\n",
      "-4.37796887717\n",
      "-3.56690882751\n",
      "20\n",
      "-2.5152673559\n",
      "-2.6277092838\n",
      "-2.9541486084\n",
      "-2.98510890357\n",
      "-3.30689362073\n",
      "25\n",
      "-3.47784013033\n",
      "-4.87108824043\n",
      "-3.57610773989\n",
      "-3.22468952309\n",
      "-3.19847781691\n"
     ]
    }
   ],
   "source": [
    "#Поехали, RELU\n",
    "m = [Linear(784, 100), RELU(), Linear(100, 100), RELU(), Linear(100, 10)]\n",
    "nll = NLLLoss()\n",
    "nn = NeuralNetwork(m)\n",
    "\n",
    "import math\n",
    "from math import exp, log\n",
    "tl = 0\n",
    "flag = []\n",
    "for j in range(itera):\n",
    "    if (j%5 == 0):\n",
    "        print (j)\n",
    "    tl = 0\n",
    "    ind = 0\n",
    "    res = nn.forward(X_train_final)\n",
    "    loss = nll.forward(res, y_train)\n",
    "    nn.backward(nll.backward())\n",
    "    nn.step(0.00005)\n",
    "    flag.append(loss)\n",
    "    print (loss)"
   ]
  },
  {
   "cell_type": "code",
   "execution_count": 211,
   "metadata": {
    "collapsed": false
   },
   "outputs": [
    {
     "name": "stdout",
     "output_type": "stream",
     "text": [
      "0.3567\n"
     ]
    },
    {
     "data": {
      "image/png": "[encoded data removed]",
      "text/plain": [
       "<matplotlib.figure.Figure at 0x7fc3fb09a7b8>"
      ]
     },
     "metadata": {},
     "output_type": "display_data"
    }
   ],
   "source": [
    "plt.plot(range(itera), -1*np.array(flag))\n",
    "labels = []\n",
    "res = nn.forward(X_test_final)\n",
    "res = np.exp(res) / np.exp(res).sum()\n",
    "labels.append([res[i].argmax() for i in range(len(y_test))])\n",
    "from sklearn.metrics import accuracy_score\n",
    "RELU_acc_aug = accuracy_score(np.array(labels).reshape(-1), y_test)\n",
    "print (RELU_acc_aug)"
   ]
  },
  {
   "cell_type": "code",
   "execution_count": 212,
   "metadata": {
    "collapsed": false
   },
   "outputs": [
    {
     "name": "stdout",
     "output_type": "stream",
     "text": [
      "0.8826 -точность классфикатора без аугментации данных\n",
      "0.3567 -точность классфикатора с аугментации данных\n"
     ]
    }
   ],
   "source": [
    "print(RELU_acc_noaug,  \"-точность классфикатора без аугментации данных\")\n",
    "print(RELU_acc_aug,  \"-точность классфикатора с аугментации данных\")"
   ]
  },
  {
   "cell_type": "code",
   "execution_count": 203,
   "metadata": {
    "collapsed": false
   },
   "outputs": [
    {
     "name": "stdout",
     "output_type": "stream",
     "text": [
      "0\n",
      "-4.56217758542\n",
      "-5.90885685904\n",
      "-7.27179977729\n",
      "-5.28440961208\n",
      "-4.04094691779\n",
      "5\n",
      "-3.93082387234\n",
      "-3.49799556743\n",
      "-4.39766730372\n",
      "-4.24385345524\n",
      "-4.31278641867\n",
      "10\n",
      "-3.61414015804\n",
      "-3.8996933509\n",
      "-3.25011172201\n",
      "-3.22239094225\n",
      "-3.40274534802\n",
      "15\n",
      "-3.48420153348\n",
      "-3.42033100223\n",
      "-3.59775911109\n",
      "-3.56561175409\n",
      "-3.69379676826\n",
      "20\n",
      "-4.52347808453\n",
      "-4.18868593151\n",
      "-4.04230447905\n",
      "-4.36704525508\n",
      "-5.09621899233\n",
      "25\n",
      "-6.06502654535\n",
      "-5.14890021502\n",
      "-4.73972111631\n",
      "-5.01332595605\n",
      "-3.41907484763\n"
     ]
    }
   ],
   "source": [
    "#Поехали, ELU\n",
    "m = [Linear(784, 100), ELU(), Linear(100, 100), ELU(), Linear(100, 10)]\n",
    "nll = NLLLoss()\n",
    "nn = NeuralNetwork(m)\n",
    "\n",
    "import math\n",
    "from math import exp, log\n",
    "tl = 0\n",
    "flag = []\n",
    "for j in range(itera):\n",
    "    if (j%5 == 0):\n",
    "        print (j)\n",
    "    tl = 0\n",
    "    ind = 0\n",
    "    res = nn.forward(X_train_final)\n",
    "    loss = nll.forward(res, y_train)\n",
    "    nn.backward(nll.backward())\n",
    "    nn.step(0.00005)\n",
    "    flag.append(loss)\n",
    "    print (loss)"
   ]
  },
  {
   "cell_type": "code",
   "execution_count": 204,
   "metadata": {
    "collapsed": false
   },
   "outputs": [
    {
     "name": "stdout",
     "output_type": "stream",
     "text": [
      "0.5193\n"
     ]
    },
    {
     "data": {
      "image/png": "[encoded data removed]",
      "text/plain": [
       "<matplotlib.figure.Figure at 0x7fc3d9dad0f0>"
      ]
     },
     "metadata": {},
     "output_type": "display_data"
    }
   ],
   "source": [
    "plt.plot(range(itera), -1*np.array(flag))\n",
    "labels = []\n",
    "res = nn.forward(X_test_final)\n",
    "res = np.exp(res) / np.exp(res).sum()\n",
    "labels.append([res[i].argmax() for i in range(len(y_test))])\n",
    "from sklearn.metrics import accuracy_score\n",
    "ELU_acc_aug = accuracy_score(np.array(labels).reshape(-1), y_test)\n",
    "print (ELU_acc_aug)"
   ]
  },
  {
   "cell_type": "code",
   "execution_count": 206,
   "metadata": {
    "collapsed": false
   },
   "outputs": [
    {
     "name": "stdout",
     "output_type": "stream",
     "text": [
      "0.8325 -точность классфикатора без аугментации данных\n",
      "0.5193 точность классфикатора с аугментации данных\n"
     ]
    }
   ],
   "source": [
    "print(ELU_acc_noaug, \"-точность классфикатора без аугментации данных\")\n",
    "print(ELU_acc_aug, \"точность классфикатора с аугментации данных\")"
   ]
  },
  {
   "cell_type": "markdown",
   "metadata": {},
   "source": [
    "### Часть 4: Выводы\n",
    "Опишите полученные результаты: как влияют выбор нелинейности и предобработка данных на скорость сходимости и итоговое качество?"
   ]
  },
  {
   "cell_type": "code",
   "execution_count": null,
   "metadata": {
    "collapsed": true
   },
   "outputs": [],
   "source": []
  }
 ],
 "metadata": {
  "anaconda-cloud": {},
  "kernelspec": {
   "display_name": "Python [conda root]",
   "language": "python",
   "name": "conda-root-py"
  },
  "language_info": {
   "codemirror_mode": {
    "name": "ipython",
    "version": 3
   },
   "file_extension": ".py",
   "mimetype": "text/x-python",
   "name": "python",
   "nbconvert_exporter": "python",
   "pygments_lexer": "ipython3",
   "version": "3.5.2"
  }
 },
 "nbformat": 4,
 "nbformat_minor": 2
}
