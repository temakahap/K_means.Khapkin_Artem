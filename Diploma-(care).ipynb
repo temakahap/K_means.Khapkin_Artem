{
 "cells": [
  {
   "cell_type": "code",
   "execution_count": 1,
   "metadata": {
    "collapsed": false
   },
   "outputs": [],
   "source": [
    "import pandas as pd\n",
    "import numpy as np\n",
    "import matplotlib.pyplot as plt\n",
    "from scipy.optimize import minimize, rosen, rosen_der\n",
    "from sklearn.datasets import make_blobs\n",
    "from sklearn import svm\n",
    "\n",
    "%matplotlib inline\n",
    "plt.style.use('ggplot')\n",
    "plt.rcParams['figure.figsize'] = (12,5)\n",
    "\n",
    "\n",
    "def scalar_pr(a,b):\n",
    "    t = a*b\n",
    "    return sum(t[i] for i in range(len(a)))\n",
    "\n",
    "def sign(x):\n",
    "    if x > 0:\n",
    "        return 1\n",
    "    elif x < 0:\n",
    "        return -1\n",
    "    else: \n",
    "        return 0"
   ]
  },
  {
   "cell_type": "code",
   "execution_count": 2,
   "metadata": {
    "collapsed": false
   },
   "outputs": [],
   "source": [
    "trans = pd.read_csv('transactions.csv')\n",
    "X_0 = pd.read_csv('data_00.csv')\n",
    "X_1 = pd.read_csv('data_01.csv')\n",
    "X_2 = pd.read_csv('data_02.csv')\n"
   ]
  },
  {
   "cell_type": "code",
   "execution_count": 20,
   "metadata": {
    "collapsed": false
   },
   "outputs": [
    {
     "data": {
      "text/html": [
       "<div>\n",
       "<style>\n",
       "    .dataframe thead tr:only-child th {\n",
       "        text-align: right;\n",
       "    }\n",
       "\n",
       "    .dataframe thead th {\n",
       "        text-align: left;\n",
       "    }\n",
       "\n",
       "    .dataframe tbody tr th {\n",
       "        vertical-align: top;\n",
       "    }\n",
       "</style>\n",
       "<table border=\"1\" class=\"dataframe\">\n",
       "  <thead>\n",
       "    <tr style=\"text-align: right;\">\n",
       "      <th></th>\n",
       "      <th>customer_id</th>\n",
       "      <th>tr_datetime</th>\n",
       "      <th>mcc_code</th>\n",
       "      <th>tr_type</th>\n",
       "      <th>amount</th>\n",
       "      <th>term_id</th>\n",
       "    </tr>\n",
       "  </thead>\n",
       "  <tbody>\n",
       "    <tr>\n",
       "      <th>0</th>\n",
       "      <td>39026145</td>\n",
       "      <td>0 10:23:26</td>\n",
       "      <td>4814</td>\n",
       "      <td>1030</td>\n",
       "      <td>-2245.92</td>\n",
       "      <td>NaN</td>\n",
       "    </tr>\n",
       "    <tr>\n",
       "      <th>1</th>\n",
       "      <td>39026145</td>\n",
       "      <td>1 10:19:29</td>\n",
       "      <td>6011</td>\n",
       "      <td>7010</td>\n",
       "      <td>56147.89</td>\n",
       "      <td>NaN</td>\n",
       "    </tr>\n",
       "    <tr>\n",
       "      <th>2</th>\n",
       "      <td>39026145</td>\n",
       "      <td>1 10:20:56</td>\n",
       "      <td>4829</td>\n",
       "      <td>2330</td>\n",
       "      <td>-56147.89</td>\n",
       "      <td>NaN</td>\n",
       "    </tr>\n",
       "    <tr>\n",
       "      <th>3</th>\n",
       "      <td>39026145</td>\n",
       "      <td>1 10:39:54</td>\n",
       "      <td>5499</td>\n",
       "      <td>1010</td>\n",
       "      <td>-1392.47</td>\n",
       "      <td>NaN</td>\n",
       "    </tr>\n",
       "    <tr>\n",
       "      <th>4</th>\n",
       "      <td>39026145</td>\n",
       "      <td>2 15:33:42</td>\n",
       "      <td>5499</td>\n",
       "      <td>1010</td>\n",
       "      <td>-920.83</td>\n",
       "      <td>NaN</td>\n",
       "    </tr>\n",
       "  </tbody>\n",
       "</table>\n",
       "</div>"
      ],
      "text/plain": [
       "   customer_id tr_datetime  mcc_code  tr_type    amount term_id\n",
       "0     39026145  0 10:23:26      4814     1030  -2245.92     NaN\n",
       "1     39026145  1 10:19:29      6011     7010  56147.89     NaN\n",
       "2     39026145  1 10:20:56      4829     2330 -56147.89     NaN\n",
       "3     39026145  1 10:39:54      5499     1010  -1392.47     NaN\n",
       "4     39026145  2 15:33:42      5499     1010   -920.83     NaN"
      ]
     },
     "execution_count": 20,
     "metadata": {},
     "output_type": "execute_result"
    }
   ],
   "source": [
    "#исходные данные\n",
    "trans.head()"
   ]
  },
  {
   "cell_type": "code",
   "execution_count": 25,
   "metadata": {
    "collapsed": false
   },
   "outputs": [
    {
     "data": {
      "text/plain": [
       "array([[ 0.,  0.,  0., ...,  0.,  0.,  0.],\n",
       "       [ 0.,  0.,  0., ...,  0.,  0.,  0.],\n",
       "       [ 0.,  0.,  0., ...,  0.,  0.,  0.],\n",
       "       ..., \n",
       "       [ 0.,  0.,  0., ...,  0.,  0.,  0.],\n",
       "       [ 0.,  0.,  0., ...,  0.,  0.,  0.],\n",
       "       [ 0.,  0.,  0., ...,  0.,  0.,  0.]])"
      ]
     },
     "execution_count": 25,
     "metadata": {},
     "output_type": "execute_result"
    }
   ],
   "source": [
    "#X_0, x_1, X_2 - панельные данные, X_0 и X_1 - с метками, метки X_2 нужно построить\n",
    "X_0"
   ]
  },
  {
   "cell_type": "code",
   "execution_count": null,
   "metadata": {
    "collapsed": true
   },
   "outputs": [],
   "source": [
    "#y_0, y_1 - метки класса\n",
    "y_0 = X_0['pre']\n",
    "del X_0['pre']\n",
    "y_1 = X_1['pre']\n",
    "del X_1['pre']\n",
    "y_2 = X_2['pre']\n",
    "del X_2['pre']\n",
    "del X_0['4829']\n",
    "del X_1['4829']\n",
    "del X_2['4829']\n",
    "w_0 = np.array([i for i in X_0.columns])\n",
    "w_1 = np.array([i for i in X_1.columns])\n",
    "w_2 = np.array([i for i in X_2.columns])"
   ]
  },
  {
   "cell_type": "code",
   "execution_count": 6,
   "metadata": {
    "collapsed": true
   },
   "outputs": [],
   "source": [
    "def return_SVC(X_1, y_1):\n",
    "        \n",
    "    clf = svm.SVC(C = 1, kernel = 'linear')\n",
    "    clf.fit(X_1, y_1) \n",
    "    x1_duall = np.array(clf.dual_coef_)\n",
    "    a = np.zeros(len(y_1))\n",
    "    for i in range(len(clf.support_)):\n",
    "        a[clf.support_[i]] = x1_duall[0][i]\n",
    "    return a"
   ]
  },
  {
   "cell_type": "code",
   "execution_count": 8,
   "metadata": {
    "collapsed": false
   },
   "outputs": [
    {
     "data": {
      "text/plain": [
       "SVC(C=0.3, cache_size=200, class_weight=None, coef0=0.0,\n",
       "  decision_function_shape=None, degree=3, gamma='auto', kernel='linear',\n",
       "  max_iter=-1, probability=False, random_state=None, shrinking=True,\n",
       "  tol=0.001, verbose=False)"
      ]
     },
     "execution_count": 8,
     "metadata": {},
     "output_type": "execute_result"
    }
   ],
   "source": [
    "clf = svm.SVC(C = 0.3, kernel = 'linear')\n",
    "clf.fit(X_1, y_1) \n"
   ]
  },
  {
   "cell_type": "code",
   "execution_count": 9,
   "metadata": {
    "collapsed": false
   },
   "outputs": [],
   "source": [
    "y_pred = clf.predict(X_2)"
   ]
  },
  {
   "cell_type": "code",
   "execution_count": 10,
   "metadata": {
    "collapsed": false
   },
   "outputs": [
    {
     "data": {
      "text/plain": [
       "0.65000000000000002"
      ]
     },
     "execution_count": 10,
     "metadata": {},
     "output_type": "execute_result"
    }
   ],
   "source": [
    "from sklearn.metrics import accuracy_score\n",
    "accuracy_score(y_pred, y_1[:100])"
   ]
  },
  {
   "cell_type": "code",
   "execution_count": 12,
   "metadata": {
    "collapsed": false
   },
   "outputs": [],
   "source": [
    "from sklearn import svm\n",
    "import pandas as pd\n",
    "import numpy as np\n",
    "import matplotlib.pyplot as plt\n",
    "from scipy.optimize import minimize, rosen, rosen_der\n",
    "from sklearn.datasets import make_blobs\n",
    "\n",
    "class SVM_panel():\n",
    "    \n",
    "    def __init__(self, C = 10, reg = 1, maxiter = 10000, ftol = 1e-06, method = 'SLSQP'):\n",
    "        \n",
    "        self.C = C\n",
    "        self.reg = reg\n",
    "        self.dual_coeff = None\n",
    "        self.options = {'maxiter':maxiter,\n",
    "                           'ftol': ftol}\n",
    "        self.method = method\n",
    "        \n",
    "    \n",
    "    \n",
    "    def return_SVC(self, X_1, y_1):\n",
    "        \n",
    "        \n",
    "        self.clf = svm.SVC(C = 1, kernel = 'linear')\n",
    "        clf.fit(X_1, y_1) \n",
    "        x1_duall = np.array(clf.dual_coef_)\n",
    "        a = np.zeros(len(y_1))\n",
    "        for i in range(len(clf.support_)):\n",
    "            a[clf.support_[i]] = x1_duall[0][i]\n",
    "        return a\n",
    "        \n",
    "    def get_func_to_min(self, X, y):\n",
    "        \n",
    "        a_1 = self.return_SVC(X_0, y_0)\n",
    "        return lambda lam:sum(-lam[i] \n",
    "                              for i in range(len(y)))+0.5*sum(sum(lam[i]*lam[j]*y[i]*y[j]*scalar_pr(X[i],X[j]) for i in range(len(y))) for j in range(len(y))) + self.reg*np.math.sqrt(sum((lam[i]*y[i] - a_1[i])**2 for i in range(len(y))))                  \n",
    "        \n",
    "        \n",
    "    def get_bounds(self, y):   \n",
    "       \n",
    "        bnds = []\n",
    "        for i in range(len(y)):\n",
    "            bnds.append([0, C])\n",
    "        return bnds\n",
    "     \n",
    "    def get_constraints(self, y):\n",
    "        \n",
    "        return {'type': 'eq', \n",
    "                'fun': lambda lam: sum(lam[i]*y[i] for i in range(len(y)))}                \n",
    "        \n",
    "        \n",
    "    def get_initial(self, y):    \n",
    "        \n",
    "        initial = []\n",
    "        for i in range(len(y)):\n",
    "            initial.append(100)\n",
    "        \n",
    "        return initial\n",
    "    \n",
    "    \n",
    "        \n",
    "    def fit(self, data_train, labels):\n",
    "        \n",
    "        self.dual_coeff = minimize(self.get_func_to_min(data_train, labels), \n",
    "                                   self.get_initial(labels), \n",
    "                                   method = self.method,\n",
    "                                   options = self.options,\n",
    "                                   bounds = self.get_bounds(labels),\n",
    "                                   constraints = self.get_constraints(labels))\n",
    "        #for i in range(len(y)):\n",
    "         #   if self.dual_coeff.x[i] > 0:\n",
    "        #        print (self.dual_coeff.x[i])\n",
    "        return self\n",
    "        \n",
    "        \n",
    "        \n",
    "    def return_omega_0(self, t, data_train, labels):\n",
    "\n",
    "        rule = []\n",
    "        omega = sum(t[i]*labels[i]*data_train[i] for i in range(len(labels)))\n",
    "        for i in range(len(labels)):\n",
    "            if (t[i] > 0.000001):\n",
    "                rule.append(scalar_pr(omega, data_train[i]) - labels[i])\n",
    "        omega_0 = rule[len(rule)//2]\n",
    "\n",
    "        return omega_0\n",
    "\n",
    "    def predict_index(self, data_train, labels, data_test):\n",
    "        \n",
    "        w_0 = self.return_omega_0(self.dual_coeff.x, data_train, labels)\n",
    "        final_predict = []\n",
    "        for j in range(len(data_test)):\n",
    "            \n",
    "            final_predict.append(sign(sum(self.dual_coeff.x[i]*labels[i]*scalar_pr(data_train[i], data_test[j]) for i in range(len(labels))) - \n",
    "                    w_0))\n",
    "            \n",
    "        return final_predict        "
   ]
  }
 ],
 "metadata": {
  "anaconda-cloud": {},
  "kernelspec": {
   "display_name": "Python [conda root]",
   "language": "python",
   "name": "conda-root-py"
  },
  "language_info": {
   "codemirror_mode": {
    "name": "ipython",
    "version": 3
   },
   "file_extension": ".py",
   "mimetype": "text/x-python",
   "name": "python",
   "nbconvert_exporter": "python",
   "pygments_lexer": "ipython3",
   "version": "3.5.2"
  }
 },
 "nbformat": 4,
 "nbformat_minor": 1
}
