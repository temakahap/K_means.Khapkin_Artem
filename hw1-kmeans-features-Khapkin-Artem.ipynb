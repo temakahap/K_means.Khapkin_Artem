{
 "cells": [
  {
   "cell_type": "markdown",
   "metadata": {},
   "source": [
    "# Алгоритмы интеллектуальной обработки больших объемов данных\n",
    "## Домашнее задание №1 - Метод k-средних, предобработка признаков\n"
   ]
  },
  {
   "cell_type": "markdown",
   "metadata": {},
   "source": [
    "###### <hr\\>\n",
    "**Общая информация**\n",
    "\n",
    "**Срок сдачи:** 6 марта 2017, 06:00 <br\\>\n",
    "**Штраф за опоздание:** -2 балла после 06:00 6 марта, -4 балла после 06:00 13 марта, -6 баллов после 06:00 20 марта\n",
    "\n",
    "При отправлении ДЗ указывайте фамилию в названии файла<br\\>\n",
    "\n",
    "Используйте данный Ipython Notebook при оформлении домашнего задания.\n",
    "<hr\\>"
   ]
  },
  {
   "cell_type": "markdown",
   "metadata": {},
   "source": [
    "# Первое задание - указать фамилию в имени файла"
   ]
  },
  {
   "cell_type": "code",
   "execution_count": 1,
   "metadata": {
    "collapsed": true
   },
   "outputs": [],
   "source": [
    "import pandas as pd\n",
    "import numpy as np\n",
    "import matplotlib.pyplot as plt\n",
    "\n",
    "%matplotlib inline\n",
    "\n",
    "plt.style.use('ggplot')\n",
    "plt.rcParams['figure.figsize'] = (12,5)"
   ]
  },
  {
   "cell_type": "markdown",
   "metadata": {},
   "source": [
    "# Пролог: Модуль sklearn\n",
    "На наших практических занятиях мы будем использовать [sklearn](http://scikit-learn.org/stable/index.html) (scikit-learn) - наиболее популярный модуль для работы с методами машинного обучения и анализа данных.\n",
    "\n",
    "Этот модуль регулярно обновляется, расширяется и сопровождается примерами использования тех или иных методов. Помимо самих алгоритмов (например k-средних или линейной регрессии) в нем есть множество вспомогательных функций по работе с данными."
   ]
  },
  {
   "cell_type": "markdown",
   "metadata": {},
   "source": [
    "# Туториал: Работа с различными типами признаков"
   ]
  },
  {
   "cell_type": "markdown",
   "metadata": {},
   "source": [
    "Вспомним какие типы признаков могут встретится при описании объектов исследования и как их представить в доступной для обработки компьтером форме"
   ]
  },
  {
   "cell_type": "markdown",
   "metadata": {},
   "source": [
    "Типы признаков мы будем рассматривать на примере довольно популярного набора данных [titanic](https://www.kaggle.com/c/titanic/download/train.csv) - информации о выживаемости пассажиров после известной трагедии корабля Titanic."
   ]
  },
  {
   "cell_type": "raw",
   "metadata": {},
   "source": [
    "ARIABLE DESCRIPTIONS:\n",
    "survival        Survival\n",
    "                (0 = No; 1 = Yes)\n",
    "pclass          Passenger Class\n",
    "                (1 = 1st; 2 = 2nd; 3 = 3rd)\n",
    "name            Name\n",
    "sex             Sex\n",
    "age             Age\n",
    "sibsp           Number of Siblings/Spouses Aboard\n",
    "parch           Number of Parents/Children Aboard\n",
    "ticket          Ticket Number\n",
    "fare            Passenger Fare\n",
    "cabin           Cabin\n",
    "embarked        Port of Embarkation\n",
    "                (C = Cherbourg; Q = Queenstown; S = Southampton)"
   ]
  },
  {
   "cell_type": "code",
   "execution_count": 2,
   "metadata": {
    "collapsed": false
   },
   "outputs": [
    {
     "ename": "OSError",
     "evalue": "File b'train.csv' does not exist",
     "output_type": "error",
     "traceback": [
      "\u001b[0;31m---------------------------------------------------------------------------\u001b[0m",
      "\u001b[0;31mOSError\u001b[0m                                   Traceback (most recent call last)",
      "\u001b[0;32m<ipython-input-2-a1948654966d>\u001b[0m in \u001b[0;36m<module>\u001b[0;34m()\u001b[0m\n\u001b[0;32m----> 1\u001b[0;31m \u001b[0mdf_titanic\u001b[0m \u001b[0;34m=\u001b[0m \u001b[0mpd\u001b[0m\u001b[0;34m.\u001b[0m\u001b[0mread_csv\u001b[0m\u001b[0;34m(\u001b[0m\u001b[0;34m'train.csv'\u001b[0m\u001b[0;34m,\u001b[0m \u001b[0msep\u001b[0m\u001b[0;34m=\u001b[0m\u001b[0;34m','\u001b[0m\u001b[0;34m)\u001b[0m\u001b[0;34m.\u001b[0m\u001b[0mdropna\u001b[0m\u001b[0;34m(\u001b[0m\u001b[0;34m)\u001b[0m\u001b[0;34m\u001b[0m\u001b[0m\n\u001b[0m\u001b[1;32m      2\u001b[0m \u001b[0mdf_titanic\u001b[0m\u001b[0;34m.\u001b[0m\u001b[0mhead\u001b[0m\u001b[0;34m(\u001b[0m\u001b[0;34m)\u001b[0m\u001b[0;34m\u001b[0m\u001b[0m\n",
      "\u001b[0;32m/home/temkahap/anaconda3/lib/python3.5/site-packages/pandas/io/parsers.py\u001b[0m in \u001b[0;36mparser_f\u001b[0;34m(filepath_or_buffer, sep, delimiter, header, names, index_col, usecols, squeeze, prefix, mangle_dupe_cols, dtype, engine, converters, true_values, false_values, skipinitialspace, skiprows, skipfooter, nrows, na_values, keep_default_na, na_filter, verbose, skip_blank_lines, parse_dates, infer_datetime_format, keep_date_col, date_parser, dayfirst, iterator, chunksize, compression, thousands, decimal, lineterminator, quotechar, quoting, escapechar, comment, encoding, dialect, tupleize_cols, error_bad_lines, warn_bad_lines, skip_footer, doublequote, delim_whitespace, as_recarray, compact_ints, use_unsigned, low_memory, buffer_lines, memory_map, float_precision)\u001b[0m\n\u001b[1;32m    560\u001b[0m                     skip_blank_lines=skip_blank_lines)\n\u001b[1;32m    561\u001b[0m \u001b[0;34m\u001b[0m\u001b[0m\n\u001b[0;32m--> 562\u001b[0;31m         \u001b[0;32mreturn\u001b[0m \u001b[0m_read\u001b[0m\u001b[0;34m(\u001b[0m\u001b[0mfilepath_or_buffer\u001b[0m\u001b[0;34m,\u001b[0m \u001b[0mkwds\u001b[0m\u001b[0;34m)\u001b[0m\u001b[0;34m\u001b[0m\u001b[0m\n\u001b[0m\u001b[1;32m    563\u001b[0m \u001b[0;34m\u001b[0m\u001b[0m\n\u001b[1;32m    564\u001b[0m     \u001b[0mparser_f\u001b[0m\u001b[0;34m.\u001b[0m\u001b[0m__name__\u001b[0m \u001b[0;34m=\u001b[0m \u001b[0mname\u001b[0m\u001b[0;34m\u001b[0m\u001b[0m\n",
      "\u001b[0;32m/home/temkahap/anaconda3/lib/python3.5/site-packages/pandas/io/parsers.py\u001b[0m in \u001b[0;36m_read\u001b[0;34m(filepath_or_buffer, kwds)\u001b[0m\n\u001b[1;32m    313\u001b[0m \u001b[0;34m\u001b[0m\u001b[0m\n\u001b[1;32m    314\u001b[0m     \u001b[0;31m# Create the parser.\u001b[0m\u001b[0;34m\u001b[0m\u001b[0;34m\u001b[0m\u001b[0m\n\u001b[0;32m--> 315\u001b[0;31m     \u001b[0mparser\u001b[0m \u001b[0;34m=\u001b[0m \u001b[0mTextFileReader\u001b[0m\u001b[0;34m(\u001b[0m\u001b[0mfilepath_or_buffer\u001b[0m\u001b[0;34m,\u001b[0m \u001b[0;34m**\u001b[0m\u001b[0mkwds\u001b[0m\u001b[0;34m)\u001b[0m\u001b[0;34m\u001b[0m\u001b[0m\n\u001b[0m\u001b[1;32m    316\u001b[0m \u001b[0;34m\u001b[0m\u001b[0m\n\u001b[1;32m    317\u001b[0m     \u001b[0;32mif\u001b[0m \u001b[0;34m(\u001b[0m\u001b[0mnrows\u001b[0m \u001b[0;32mis\u001b[0m \u001b[0;32mnot\u001b[0m \u001b[0;32mNone\u001b[0m\u001b[0;34m)\u001b[0m \u001b[0;32mand\u001b[0m \u001b[0;34m(\u001b[0m\u001b[0mchunksize\u001b[0m \u001b[0;32mis\u001b[0m \u001b[0;32mnot\u001b[0m \u001b[0;32mNone\u001b[0m\u001b[0;34m)\u001b[0m\u001b[0;34m:\u001b[0m\u001b[0;34m\u001b[0m\u001b[0m\n",
      "\u001b[0;32m/home/temkahap/anaconda3/lib/python3.5/site-packages/pandas/io/parsers.py\u001b[0m in \u001b[0;36m__init__\u001b[0;34m(self, f, engine, **kwds)\u001b[0m\n\u001b[1;32m    643\u001b[0m             \u001b[0mself\u001b[0m\u001b[0;34m.\u001b[0m\u001b[0moptions\u001b[0m\u001b[0;34m[\u001b[0m\u001b[0;34m'has_index_names'\u001b[0m\u001b[0;34m]\u001b[0m \u001b[0;34m=\u001b[0m \u001b[0mkwds\u001b[0m\u001b[0;34m[\u001b[0m\u001b[0;34m'has_index_names'\u001b[0m\u001b[0;34m]\u001b[0m\u001b[0;34m\u001b[0m\u001b[0m\n\u001b[1;32m    644\u001b[0m \u001b[0;34m\u001b[0m\u001b[0m\n\u001b[0;32m--> 645\u001b[0;31m         \u001b[0mself\u001b[0m\u001b[0;34m.\u001b[0m\u001b[0m_make_engine\u001b[0m\u001b[0;34m(\u001b[0m\u001b[0mself\u001b[0m\u001b[0;34m.\u001b[0m\u001b[0mengine\u001b[0m\u001b[0;34m)\u001b[0m\u001b[0;34m\u001b[0m\u001b[0m\n\u001b[0m\u001b[1;32m    646\u001b[0m \u001b[0;34m\u001b[0m\u001b[0m\n\u001b[1;32m    647\u001b[0m     \u001b[0;32mdef\u001b[0m \u001b[0mclose\u001b[0m\u001b[0;34m(\u001b[0m\u001b[0mself\u001b[0m\u001b[0;34m)\u001b[0m\u001b[0;34m:\u001b[0m\u001b[0;34m\u001b[0m\u001b[0m\n",
      "\u001b[0;32m/home/temkahap/anaconda3/lib/python3.5/site-packages/pandas/io/parsers.py\u001b[0m in \u001b[0;36m_make_engine\u001b[0;34m(self, engine)\u001b[0m\n\u001b[1;32m    797\u001b[0m     \u001b[0;32mdef\u001b[0m \u001b[0m_make_engine\u001b[0m\u001b[0;34m(\u001b[0m\u001b[0mself\u001b[0m\u001b[0;34m,\u001b[0m \u001b[0mengine\u001b[0m\u001b[0;34m=\u001b[0m\u001b[0;34m'c'\u001b[0m\u001b[0;34m)\u001b[0m\u001b[0;34m:\u001b[0m\u001b[0;34m\u001b[0m\u001b[0m\n\u001b[1;32m    798\u001b[0m         \u001b[0;32mif\u001b[0m \u001b[0mengine\u001b[0m \u001b[0;34m==\u001b[0m \u001b[0;34m'c'\u001b[0m\u001b[0;34m:\u001b[0m\u001b[0;34m\u001b[0m\u001b[0m\n\u001b[0;32m--> 799\u001b[0;31m             \u001b[0mself\u001b[0m\u001b[0;34m.\u001b[0m\u001b[0m_engine\u001b[0m \u001b[0;34m=\u001b[0m \u001b[0mCParserWrapper\u001b[0m\u001b[0;34m(\u001b[0m\u001b[0mself\u001b[0m\u001b[0;34m.\u001b[0m\u001b[0mf\u001b[0m\u001b[0;34m,\u001b[0m \u001b[0;34m**\u001b[0m\u001b[0mself\u001b[0m\u001b[0;34m.\u001b[0m\u001b[0moptions\u001b[0m\u001b[0;34m)\u001b[0m\u001b[0;34m\u001b[0m\u001b[0m\n\u001b[0m\u001b[1;32m    800\u001b[0m         \u001b[0;32melse\u001b[0m\u001b[0;34m:\u001b[0m\u001b[0;34m\u001b[0m\u001b[0m\n\u001b[1;32m    801\u001b[0m             \u001b[0;32mif\u001b[0m \u001b[0mengine\u001b[0m \u001b[0;34m==\u001b[0m \u001b[0;34m'python'\u001b[0m\u001b[0;34m:\u001b[0m\u001b[0;34m\u001b[0m\u001b[0m\n",
      "\u001b[0;32m/home/temkahap/anaconda3/lib/python3.5/site-packages/pandas/io/parsers.py\u001b[0m in \u001b[0;36m__init__\u001b[0;34m(self, src, **kwds)\u001b[0m\n\u001b[1;32m   1211\u001b[0m         \u001b[0mkwds\u001b[0m\u001b[0;34m[\u001b[0m\u001b[0;34m'allow_leading_cols'\u001b[0m\u001b[0;34m]\u001b[0m \u001b[0;34m=\u001b[0m \u001b[0mself\u001b[0m\u001b[0;34m.\u001b[0m\u001b[0mindex_col\u001b[0m \u001b[0;32mis\u001b[0m \u001b[0;32mnot\u001b[0m \u001b[0;32mFalse\u001b[0m\u001b[0;34m\u001b[0m\u001b[0m\n\u001b[1;32m   1212\u001b[0m \u001b[0;34m\u001b[0m\u001b[0m\n\u001b[0;32m-> 1213\u001b[0;31m         \u001b[0mself\u001b[0m\u001b[0;34m.\u001b[0m\u001b[0m_reader\u001b[0m \u001b[0;34m=\u001b[0m \u001b[0m_parser\u001b[0m\u001b[0;34m.\u001b[0m\u001b[0mTextReader\u001b[0m\u001b[0;34m(\u001b[0m\u001b[0msrc\u001b[0m\u001b[0;34m,\u001b[0m \u001b[0;34m**\u001b[0m\u001b[0mkwds\u001b[0m\u001b[0;34m)\u001b[0m\u001b[0;34m\u001b[0m\u001b[0m\n\u001b[0m\u001b[1;32m   1214\u001b[0m \u001b[0;34m\u001b[0m\u001b[0m\n\u001b[1;32m   1215\u001b[0m         \u001b[0;31m# XXX\u001b[0m\u001b[0;34m\u001b[0m\u001b[0;34m\u001b[0m\u001b[0m\n",
      "\u001b[0;32mpandas/parser.pyx\u001b[0m in \u001b[0;36mpandas.parser.TextReader.__cinit__ (pandas/parser.c:3427)\u001b[0;34m()\u001b[0m\n",
      "\u001b[0;32mpandas/parser.pyx\u001b[0m in \u001b[0;36mpandas.parser.TextReader._setup_parser_source (pandas/parser.c:6861)\u001b[0;34m()\u001b[0m\n",
      "\u001b[0;31mOSError\u001b[0m: File b'train.csv' does not exist"
     ]
    }
   ],
   "source": [
    "df_titanic = pd.read_csv('train.csv', sep=',').dropna()\n",
    "df_titanic.head()"
   ]
  },
  {
   "cell_type": "markdown",
   "metadata": {},
   "source": [
    "## Бинарные признаки\n",
    "Это признаки с двумя возможными значениями\n",
    "* Пол (мужской, женский)\n",
    "* Выжил (да, нет)\n",
    "\n",
    "На вход в алгоритмы обычно подаются в виде значений `{0, 1}` (реже в виде `{-1, 1}`)"
   ]
  },
  {
   "cell_type": "code",
   "execution_count": null,
   "metadata": {
    "collapsed": false
   },
   "outputs": [],
   "source": [
    "# Здесь все нормально\n",
    "df_titanic.Survived.value_counts()"
   ]
  },
  {
   "cell_type": "code",
   "execution_count": null,
   "metadata": {
    "collapsed": false
   },
   "outputs": [],
   "source": [
    "# Тут стоит выполнить переобознаение\n",
    "df_titanic.Sex.value_counts()"
   ]
  },
  {
   "cell_type": "code",
   "execution_count": null,
   "metadata": {
    "collapsed": false
   },
   "outputs": [],
   "source": [
    "# Например так\n",
    "df_titanic.Sex = df_titanic.Sex.replace({'male': 0, 'female': 1})\n",
    "df_titanic.Sex.value_counts()"
   ]
  },
  {
   "cell_type": "markdown",
   "metadata": {},
   "source": [
    "## Вещественные признаки\n",
    "\n",
    "* Возраст\n",
    "* Сумма, потраченная на билет\n",
    "* Количество родственников на борту\n",
    "\n",
    "Как правило остаются в том же виде или выполняется **нормализация** признаков, т.е. переход к одинаковой шкале, например:\n",
    "\n",
    "* $\\tilde{x} = \\frac{x - \\text{mean}(x)}{\\text{std}(x)}$\n",
    "* $\\tilde{x} = \\frac{x - \\text{min}(x)}{\\text{max}(x) - \\text{min}(x)}$"
   ]
  },
  {
   "cell_type": "markdown",
   "metadata": {},
   "source": [
    "## Категориальные признаки\n",
    "\n",
    "Принимают значения из *неупорядоченного* множества\n",
    "\n",
    "* Порт погрузки (C = Cherbourg; Q = Queenstown; S = Southampton)\n",
    "* Точка отправления (St Louis, MO; Montreal, PQ; .. }\n",
    "* Точка назначения (Chesterville, ON; Roseville, IL; .. }\n",
    "\n",
    "Обычно такие признаки кодируют с помощью так называемого One Hot Encoding: </br>\n",
    "для каждой категории создается бинарная маска-столбец, в которой стоит `1` если значение признака равно значению соответствующей категории категории.\n",
    "\n",
    "Например, для признака \"порт погрзки\" создается бинарная макска из трех стобцов для каждого из портов: С, Q, S<br/>\n",
    "Если пассажир заходил на кораблю в порту Southampton, то его признаковое описание будет соответственно: `[0, 0, 1]`"
   ]
  },
  {
   "cell_type": "code",
   "execution_count": null,
   "metadata": {
    "collapsed": false
   },
   "outputs": [],
   "source": [
    "df_titanic.Embarked.head()"
   ]
  },
  {
   "cell_type": "code",
   "execution_count": null,
   "metadata": {
    "collapsed": false
   },
   "outputs": [],
   "source": [
    "# Сделать в python это можно несколькими способами:\n",
    "\n",
    "# 1: Через pandas (не очень рекомендуется)\n",
    "emb = pd.get_dummies(df_titanic.Embarked, prefix='Embarked', prefix_sep='=')\n",
    "emb.head()"
   ]
  },
  {
   "cell_type": "code",
   "execution_count": null,
   "metadata": {
    "collapsed": false
   },
   "outputs": [],
   "source": [
    "# 2: Функционал sklearn\n",
    "from sklearn.preprocessing import OneHotEncoder\n",
    "\n",
    "encoder = OneHotEncoder(sparse=False)\n",
    "\n",
    "emb = df_titanic.loc[:, ['Embarked']].replace({'C': 0, 'Q': 1, 'S': 2}).values\n",
    "emb_enc = encoder.fit_transform(emb)\n",
    "emb_enc[:5]"
   ]
  },
  {
   "cell_type": "markdown",
   "metadata": {},
   "source": [
    "Про другием способы работы с категориальными переменными можно прочитать вот [тут](https://alexanderdyakonov.wordpress.com/2016/08/03/python-%D0%BA%D0%B0%D1%82%D0%B5%D0%B3%D0%BE%D1%80%D0%B8%D0%B0%D0%BB%D1%8C%D0%BD%D1%8B%D0%B5-%D0%BF%D1%80%D0%B8%D0%B7%D0%BD%D0%B0%D0%BA%D0%B8/)"
   ]
  },
  {
   "cell_type": "markdown",
   "metadata": {},
   "source": [
    "## Порядковый признаки"
   ]
  },
  {
   "cell_type": "markdown",
   "metadata": {},
   "source": [
    "Принимают значения из *упорядоченного* множества\n",
    "\n",
    "* Класс каюты (1 > 2 > 3)\n",
    "\n",
    "В зависимости от метода остаются можно оставить в исходном виде или применить OneHotEncoding."
   ]
  },
  {
   "cell_type": "markdown",
   "metadata": {},
   "source": [
    "## Текстовые признаки - Bag of words"
   ]
  },
  {
   "cell_type": "markdown",
   "metadata": {},
   "source": [
    "Для демонстрации возьмем текст стихотворения Блока:\n",
    "\n",
    "Ночь, улица, фонарь, аптека,<br/>\n",
    "Бессмысленный и тусклый свет.<br/>\n",
    "Живи еще хоть четверть века -<br/>\n",
    "Все будет так. Исхода нет.<br/>\n",
    "\n",
    "Умрешь - начнешь опять сначала<br/>\n",
    "И повторится все, как встарь:<br/>\n",
    "Ночь, ледяная рябь канала,<br/>\n",
    "Аптека, улица, фонарь.<br/>\n",
    "\n",
    "Пусть каждая строчка - это будет условный документ. Переведем эти документы в числовое представление по методу мешка слов (Bag Of Words)"
   ]
  },
  {
   "cell_type": "code",
   "execution_count": null,
   "metadata": {
    "collapsed": false
   },
   "outputs": [],
   "source": [
    "from sklearn.feature_extraction.text import CountVectorizer\n",
    "from sklearn.feature_extraction.text import TfidfVectorizer\n",
    "\n",
    "corpus = \\\n",
    "[u'Ночь, улица, фонарь, аптека,',\n",
    " u'Бессмысленный и тусклый свет.',\n",
    " u'Живи еще хоть четверть века -',\n",
    " u'Все будет так. Исхода нет.',\n",
    " u'Умрешь - начнешь опять сначала',\n",
    " u'И повторится все, как встарь:',\n",
    " u'Ночь, ледяная рябь канала,',\n",
    " u'Аптека, улица, фонарь.']"
   ]
  },
  {
   "cell_type": "code",
   "execution_count": null,
   "metadata": {
    "collapsed": false
   },
   "outputs": [],
   "source": [
    "vect = CountVectorizer()\n",
    "\n",
    "bow = vect.fit_transform(corpus)\n",
    "bow = bow.toarray()\n",
    "bow.shape"
   ]
  },
  {
   "cell_type": "markdown",
   "metadata": {},
   "source": [
    "Получили матрицу размера $8 \\times 27$, так как у нас 8 строчек и выделилось 27 униальных слов. Элемент матрицы показывает сколько раз слово встречалось в соответствующем документе."
   ]
  },
  {
   "cell_type": "code",
   "execution_count": null,
   "metadata": {
    "collapsed": false
   },
   "outputs": [],
   "source": [
    "bow"
   ]
  },
  {
   "cell_type": "code",
   "execution_count": null,
   "metadata": {
    "collapsed": false
   },
   "outputs": [],
   "source": [
    "# Посмотрим какие слова стоят по столбцам\n",
    "for i, w in enumerate(vect.get_feature_names()):\n",
    "    print u'столбец %d: %s' % (i, w)"
   ]
  },
  {
   "cell_type": "markdown",
   "metadata": {},
   "source": [
    "# Туториал: Имплементация собственного метода"
   ]
  },
  {
   "cell_type": "markdown",
   "metadata": {},
   "source": [
    "Для решения задач вида \"имплементируйте метод X\" крайне желательно (но необязательно) реализовывать методы с помощью интерфейса sklearn. Ниже вы увидите пример очень простого **классификатора**. Используйте эти наработи для выполнения задания."
   ]
  },
  {
   "cell_type": "markdown",
   "metadata": {},
   "source": [
    "Загрузите [датасет](https://archive.ics.uci.edu/ml/machine-learning-databases/wine-quality/winequality-red.csv) с информацией о характеристиках вина и его качестве. (В метод `pd.read_csv()` можно подать веб-ссылку на данные и пандас их скачает и преобразует в `DataFrame`)."
   ]
  },
  {
   "cell_type": "code",
   "execution_count": null,
   "metadata": {
    "collapsed": false
   },
   "outputs": [],
   "source": [
    "df_wine = pd.read_csv('https://archive.ics.uci.edu/ml/machine-learning-databases/wine-quality/winequality-red.csv', sep=';')"
   ]
  },
  {
   "cell_type": "code",
   "execution_count": null,
   "metadata": {
    "collapsed": false
   },
   "outputs": [],
   "source": [
    "df_wine.head()"
   ]
  },
  {
   "cell_type": "markdown",
   "metadata": {},
   "source": [
    "Наша задача состоит в предсказании целевого признака `quality` по остальным признакам. `quality` - это вещественная переменная (оценка качества от 0 до 10). Упростим себе задачу - создадим новый столбец `quality_cat` по следующим правилам:\n",
    "\n",
    "* `quality_cat = 1` если `quality > 5` \n",
    "* `quality_cat = 0` - иначе \n",
    "\n",
    "Таким образом, `quality_cat` характерует \"плохое\" и \"хорошее\" вино."
   ]
  },
  {
   "cell_type": "code",
   "execution_count": null,
   "metadata": {
    "collapsed": false
   },
   "outputs": [],
   "source": [
    "def prepocess_wine(df):\n",
    "    df.loc[:, 'quality_cat'] = (df.loc[:, 'quality'] > 5).astype(int)\n",
    "    df = df.drop('quality', axis=1)\n",
    "    \n",
    "    return df"
   ]
  },
  {
   "cell_type": "code",
   "execution_count": null,
   "metadata": {
    "collapsed": true
   },
   "outputs": [],
   "source": [
    "df_wine = df_wine.pipe(prepocess_wine)\n",
    "df_wine.head()"
   ]
  },
  {
   "cell_type": "markdown",
   "metadata": {},
   "source": [
    "Нарисуем распределение хорошего и плохого вина по признаку `alcohol`."
   ]
  },
  {
   "cell_type": "code",
   "execution_count": null,
   "metadata": {
    "collapsed": false
   },
   "outputs": [],
   "source": [
    "_, ax = plt.subplots(1,1)\n",
    "df_wine.query('quality_cat == 1').hist('alcohol', alpha=0.3, bins=20, label='good', ax=ax)\n",
    "df_wine.query('quality_cat == 0').hist('alcohol', alpha=0.3, bins=20, label='bad', ax=ax)\n",
    "ax.set_xlabel('alcohol')\n",
    "ax.set_ylabel('count')\n",
    "plt.legend()"
   ]
  },
  {
   "cell_type": "markdown",
   "metadata": {},
   "source": [
    "Визуально кажется, что можно найти некоторое пороговое значение признака `alcohol` $\\theta$, чтобы хорошо дискриминировать между плохими и хорошим вином:\n",
    "* Если `alcohol >` $\\theta$ - то предсказываем, что вино хорошее\n",
    "* Если `alcohol <=` $\\theta$ - то предсказываем, что вино плохое\n",
    "\n",
    "Обучаеть классификатор будем очень просто: перебирать значения признака alchol и считать **ошибку** классификации. То значение, где ошибка минимальна и будет оптимальным.\n",
    "\n",
    "Разделим целевой признак от остальных признаков"
   ]
  },
  {
   "cell_type": "code",
   "execution_count": null,
   "metadata": {
    "collapsed": false
   },
   "outputs": [],
   "source": [
    "X, y = df_wine.iloc[:, :-1].values, df_wine.iloc[:, -1].values"
   ]
  },
  {
   "cell_type": "markdown",
   "metadata": {},
   "source": [
    "Далее вы увидете пример реализации этого простого классификатора."
   ]
  },
  {
   "cell_type": "code",
   "execution_count": null,
   "metadata": {
    "collapsed": true
   },
   "outputs": [],
   "source": [
    "from sklearn.base import BaseEstimator, ClassifierMixin\n",
    "\n",
    "class SimpleClassifier(BaseEstimator, ClassifierMixin): \n",
    "    \n",
    "    def __init__(self):\n",
    "        \"\"\"\n",
    "        Инициализация метода\n",
    "        \"\"\"\n",
    "        \n",
    "        self.threshold = 0\n",
    "\n",
    "    def fit(self, X, y=None):\n",
    "        \"\"\"\n",
    "        Выполняет процедуру обучения классификатора. В данном случае - перебор занчения признака alcohol.\n",
    "        Договоримся, что признак alcohol будет в последнем столбце матрицы X\n",
    "        \"\"\"\n",
    "        \n",
    "        alcohol = X[:,-1]\n",
    "        n = float(y.shape[0])\n",
    "        \n",
    "        # Задаем пространство поиска\n",
    "        alco_range = np.arange(alcohol.min(), alcohol.max(), 0.1)\n",
    "        \n",
    "        min_error_rate = 1\n",
    "                \n",
    "        #  Начинаем поиск\n",
    "        for theta in alco_range:\n",
    "            prediction = alcohol > theta\n",
    "            \n",
    "            error_rate = sum(prediction != y)/n\n",
    "            \n",
    "            if error_rate < min_error_rate:\n",
    "                min_error_rate = error_rate\n",
    "                self.threshold = theta  \n",
    "        \n",
    "        return self\n",
    "\n",
    "    def predict(self, X, y=None):\n",
    "        \"\"\"\n",
    "        Процедура предсказания класса по обученному порогу\n",
    "        \"\"\"\n",
    "        \n",
    "        return (X[:,-1] > self.threshold).astype(int)"
   ]
  },
  {
   "cell_type": "markdown",
   "metadata": {},
   "source": [
    "Обучаем модель"
   ]
  },
  {
   "cell_type": "code",
   "execution_count": null,
   "metadata": {
    "collapsed": false
   },
   "outputs": [],
   "source": [
    "model = SimpleClassifier()\n",
    "model.fit(X, y)\n",
    "\n",
    "print ('Оптимальный порог: %f' % model.threshold)"
   ]
  },
  {
   "cell_type": "markdown",
   "metadata": {},
   "source": [
    "Получаем предсказание модели (на обучающей выборке)"
   ]
  },
  {
   "cell_type": "code",
   "execution_count": null,
   "metadata": {
    "collapsed": true
   },
   "outputs": [],
   "source": [
    "y_hat = model.predict(X)"
   ]
  },
  {
   "cell_type": "markdown",
   "metadata": {},
   "source": [
    "Оценим долю ошибок на обучающей выборке"
   ]
  },
  {
   "cell_type": "code",
   "execution_count": null,
   "metadata": {
    "collapsed": false
   },
   "outputs": [],
   "source": [
    "error_rate = sum(y_hat != y)/float(y.shape[0])\n",
    "print ('Доля ошибок на обучающей выборке: %f' % error_rate)"
   ]
  },
  {
   "cell_type": "markdown",
   "metadata": {},
   "source": [
    "## Проверка метода на контрольной выборке\n",
    "\n",
    "Мы обучили наш метод на данных о красном виде. \n",
    "\n",
    "Посмотрим, выполняется ли так же хорошо закономерность между качеством и уровнем алкоголя в белом вине."
   ]
  },
  {
   "cell_type": "code",
   "execution_count": null,
   "metadata": {
    "collapsed": false
   },
   "outputs": [],
   "source": [
    "df_wine_test = pd.read_csv('https://archive.ics.uci.edu/ml/machine-learning-databases/wine-quality/winequality-white.csv',\n",
    "                           sep=';')\n",
    "\n",
    "df_wine_test = df_wine_test.pipe(prepocess_wine)\n",
    "df_wine_test.head()"
   ]
  },
  {
   "cell_type": "code",
   "execution_count": null,
   "metadata": {
    "collapsed": false
   },
   "outputs": [],
   "source": [
    "X_test, y_test = df_wine_test.iloc[:, :-1].values, df_wine_test.iloc[:, -1].values\n",
    "y_hat = model.predict(X_test)"
   ]
  },
  {
   "cell_type": "code",
   "execution_count": null,
   "metadata": {
    "collapsed": false
   },
   "outputs": [],
   "source": [
    "error_rate = sum(y_hat != y_test)/float(y_test.shape[0])\n",
    "print 'Доля ошибок на контрольной выборке: %f' % error_rate"
   ]
  },
  {
   "cell_type": "markdown",
   "metadata": {},
   "source": [
    "Получилось неплохо и это лишь наивный алгоритм на одном признаке! Ну а выводы делайте сами =)"
   ]
  },
  {
   "cell_type": "markdown",
   "metadata": {},
   "source": [
    "# Имплементация K-means\n",
    "\n",
    "Пользуясь наработками выше, имплементируйте метод k-means.</br> При инициализации необходимо задавать количество кластеров, функцию расстояния между кластерами (для оригинального k-means - евклидово расстояние) и начальное состояние генератора случайных чисел.\n",
    "\n",
    "После обучения, среди атрибутов класса `Kmeans` должны появится\n",
    "* Метки кластеров для объектов\n",
    "* Координаты центройдов кластеров\n",
    "\n",
    "k-means - это алгоритм **кластеризации**, а не классификации, а посему метод `.predict()` в нем фактически не нужен, но он может возвращать метки ближайшего кластера для объектов."
   ]
  },
  {
   "cell_type": "markdown",
   "metadata": {},
   "source": [
    "#### Задание 1 (5 баллов)\n",
    "\n",
    "Имплементируйте метод k-means"
   ]
  },
  {
   "cell_type": "code",
   "execution_count": 3,
   "metadata": {
    "collapsed": false
   },
   "outputs": [],
   "source": [
    "import numpy as np\n",
    "from scipy.spatial import distance"
   ]
  },
  {
   "cell_type": "code",
   "execution_count": 124,
   "metadata": {
    "collapsed": false
   },
   "outputs": [],
   "source": [
    "from sklearn.base import BaseEstimator, ClusterMixin\n",
    "\n",
    "class Kmeans(BaseEstimator, ClusterMixin): \n",
    "\n",
    "        \n",
    "        \n",
    "        \n",
    "        \n",
    "    def __init__(self, k = 6, metric='euclidean', max_iter=200, random_state=None, eps = 0.0001, zippate = 1.0):\n",
    "        \"\"\"\n",
    "        Инициализация метода\n",
    "        :k - количество кластеров           \n",
    "        :metric - функция расстояния между объектами\n",
    "        :max_iter - максиальное количество итераций\n",
    "        :random_state - seed для инициализации генератора случайных чисел\n",
    "        \"\"\"\n",
    "        \n",
    "        self.k = k\n",
    "        self.random_state = random_state\n",
    "        self.metric = metric\n",
    "        self.max_iter = max_iter\n",
    "        self.iteration = 0\n",
    "        self.centroids = None\n",
    "        self.eps = eps\n",
    "        self.zippate = zippate\n",
    "        \n",
    "    \n",
    "    def fit(self, X, y=None):\n",
    "        \n",
    "        def nach(X):\n",
    "            y = []\n",
    "           \n",
    "            T = X.copy()\n",
    "            X_transp = T.transpose()\n",
    "            for i in range(X.shape[1]):\n",
    "                \n",
    "                t = []\n",
    "                X_transp[i].sort()\n",
    "                t.append(X_transp[i][0])\n",
    "                t.append(X_transp[i][X.shape[0] - 1])\n",
    "                y.append(t)\n",
    "            return y        \n",
    "              \n",
    "        x_2 = X.shape[1]\n",
    "        # Инициализация генератора случайных чисел\n",
    "        np.random.seed(self.random_state)\n",
    "        # Массив с метками кластеров для каждого объекта из X\n",
    "        self.labels = np.empty(X.shape[0])\n",
    "        self.predict = np.empty(X.shape[0])\n",
    "        # Массив с центройдами кластеров\n",
    "        self.r = np.zeros((self.k, x_2))\n",
    "        t = nach(X)\n",
    "        self.centroids = np.zeros((self.k, X.shape[1]))\n",
    "        for i in range(self.k):\n",
    "            for j in range(X.shape[1]):\n",
    "                self.centroids[i][j] = self.zippate * np.random.uniform(t[j][0], t[j][1])               \n",
    "            ## Your Code Here\n",
    "        while (self.iteration < self.max_iter):\n",
    "            self.iteration+= 1\n",
    "            for i in range(X.shape[0]):\n",
    "                dist = 10000000000000\n",
    "                for j in range(self.k):\n",
    "                    if (distance.euclidean(X[i], self.centroids[j]) < dist):\n",
    "                        dist = distance.euclidean(X[i], self.centroids[j])\n",
    "                        self.labels[i] = j\n",
    "                        \n",
    "            for i in range(self.k):\n",
    "                if  X[self.labels == i, :].shape[0] != 0:\n",
    "                    self.r[i] = self.centroids[i].copy()\n",
    "                    self.centroids[i] = np.mean(X[self.labels == i, :], axis = 0)\n",
    "            \n",
    "            flag = 0\n",
    "            print(self.iteration, \"/\", self.max_iter)\n",
    "            for i in range(self.k):\n",
    "                dist_ = distance.euclidean(self.r[i], self.centroids[i])\n",
    "                if (dist_ > self.eps):\n",
    "                    flag = 1\n",
    "                    break;\n",
    "            if (flag == 0):\n",
    "                break;\n",
    "                    \n",
    "        return self\n",
    "\n",
    "    def prediction(self, X, y=None):\n",
    "\n",
    "        for i in range(X.shape[0]):\n",
    "                dist = 100000000\n",
    "                for j in range(self.k):\n",
    "                    if (distance.euclidean(X[i], self.centroids[j]) < dist):\n",
    "                        dist = distance.euclidean(X[i], self.centroids[j])\n",
    "                        self.predict[i] = j\n",
    "        return self.predict\n"
   ]
  },
  {
   "cell_type": "markdown",
   "metadata": {},
   "source": [
    "### Проверка корректности метода\n",
    "\n",
    "Перед тем как применять алгоритм на реальных данных, желатено испытать его на простых \"игрушечных\" данных.\n",
    "\n",
    "Если алгоритм реализован правильно, то метод должен идеально разбивать на 3 кластера данные ниже. Проверьте это."
   ]
  },
  {
   "cell_type": "markdown",
   "metadata": {},
   "source": [
    "#### Задание 2 (1 балл) \n",
    "\n",
    "Проверьте вашу имплементацию на простых данных"
   ]
  },
  {
   "cell_type": "code",
   "execution_count": 145,
   "metadata": {
    "collapsed": true
   },
   "outputs": [
    {
     "name": "stdout",
     "output_type": "stream",
     "text": [
      "1 / 100\n",
      "2 / 100\n",
      "3 / 100\n",
      "4 / 100\n"
     ]
    },
    {
     "data": {
      "text/plain": [
       "4"
      ]
     },
     "execution_count": 145,
     "metadata": {},
     "output_type": "execute_result"
    },
    {
     "data": {
      "image/png": "[encoded data removed]",
      "text/plain": [
       "<matplotlib.figure.Figure at 0x7fde82cb2320>"
      ]
     },
     "metadata": {},
     "output_type": "display_data"
    }
   ],
   "source": [
    "from sklearn.datasets import make_blobs\n",
    "X, y = make_blobs(n_samples=100, n_features=2, centers=3, cluster_std=1, \n",
    "           center_box=(-10.0, 10.0), shuffle=False, random_state=1234)\n",
    "K = Kmeans(k = 3, max_iter = 100, eps = 0.0000001)\n",
    "K = K.fit(X)\n",
    "plt.scatter(X[:,0], X[:, 1], c=K.labels)\n",
    "plt.scatter(K.centroids[:, 0], K.centroids[:, 1], color = 'orange')\n",
    "K.iteration"
   ]
  },
  {
   "cell_type": "markdown",
   "metadata": {},
   "source": [
    "# Применение K-means на реальных данных"
   ]
  },
  {
   "cell_type": "markdown",
   "metadata": {},
   "source": [
    "Загрузите [данные](https://github.com/brenden17/sklearnlab/blob/master/facebook/snsdata.csv) в которых содержится описание интересов профилей учеников старшей школы США."
   ]
  },
  {
   "cell_type": "code",
   "execution_count": 81,
   "metadata": {
    "collapsed": false
   },
   "outputs": [
    {
     "data": {
      "text/html": [
       "<div>\n",
       "<table border=\"1\" class=\"dataframe\">\n",
       "  <thead>\n",
       "    <tr style=\"text-align: right;\">\n",
       "      <th></th>\n",
       "      <th>gradyear</th>\n",
       "      <th>gender</th>\n",
       "      <th>age</th>\n",
       "      <th>friends</th>\n",
       "      <th>basketball</th>\n",
       "      <th>football</th>\n",
       "      <th>soccer</th>\n",
       "      <th>softball</th>\n",
       "      <th>volleyball</th>\n",
       "      <th>swimming</th>\n",
       "      <th>...</th>\n",
       "      <th>blonde</th>\n",
       "      <th>mall</th>\n",
       "      <th>shopping</th>\n",
       "      <th>clothes</th>\n",
       "      <th>hollister</th>\n",
       "      <th>abercrombie</th>\n",
       "      <th>die</th>\n",
       "      <th>death</th>\n",
       "      <th>drunk</th>\n",
       "      <th>drugs</th>\n",
       "    </tr>\n",
       "  </thead>\n",
       "  <tbody>\n",
       "    <tr>\n",
       "      <th>0</th>\n",
       "      <td>2006</td>\n",
       "      <td>M</td>\n",
       "      <td>18.982</td>\n",
       "      <td>7</td>\n",
       "      <td>0</td>\n",
       "      <td>0</td>\n",
       "      <td>0</td>\n",
       "      <td>0</td>\n",
       "      <td>0</td>\n",
       "      <td>0</td>\n",
       "      <td>...</td>\n",
       "      <td>0</td>\n",
       "      <td>0</td>\n",
       "      <td>0</td>\n",
       "      <td>0</td>\n",
       "      <td>0</td>\n",
       "      <td>0</td>\n",
       "      <td>0</td>\n",
       "      <td>0</td>\n",
       "      <td>0</td>\n",
       "      <td>0</td>\n",
       "    </tr>\n",
       "    <tr>\n",
       "      <th>1</th>\n",
       "      <td>2006</td>\n",
       "      <td>F</td>\n",
       "      <td>18.801</td>\n",
       "      <td>0</td>\n",
       "      <td>0</td>\n",
       "      <td>1</td>\n",
       "      <td>0</td>\n",
       "      <td>0</td>\n",
       "      <td>0</td>\n",
       "      <td>0</td>\n",
       "      <td>...</td>\n",
       "      <td>0</td>\n",
       "      <td>1</td>\n",
       "      <td>0</td>\n",
       "      <td>0</td>\n",
       "      <td>0</td>\n",
       "      <td>0</td>\n",
       "      <td>0</td>\n",
       "      <td>0</td>\n",
       "      <td>0</td>\n",
       "      <td>0</td>\n",
       "    </tr>\n",
       "    <tr>\n",
       "      <th>2</th>\n",
       "      <td>2006</td>\n",
       "      <td>M</td>\n",
       "      <td>18.335</td>\n",
       "      <td>69</td>\n",
       "      <td>0</td>\n",
       "      <td>1</td>\n",
       "      <td>0</td>\n",
       "      <td>0</td>\n",
       "      <td>0</td>\n",
       "      <td>0</td>\n",
       "      <td>...</td>\n",
       "      <td>0</td>\n",
       "      <td>0</td>\n",
       "      <td>0</td>\n",
       "      <td>0</td>\n",
       "      <td>0</td>\n",
       "      <td>0</td>\n",
       "      <td>0</td>\n",
       "      <td>1</td>\n",
       "      <td>0</td>\n",
       "      <td>0</td>\n",
       "    </tr>\n",
       "    <tr>\n",
       "      <th>3</th>\n",
       "      <td>2006</td>\n",
       "      <td>F</td>\n",
       "      <td>18.875</td>\n",
       "      <td>0</td>\n",
       "      <td>0</td>\n",
       "      <td>0</td>\n",
       "      <td>0</td>\n",
       "      <td>0</td>\n",
       "      <td>0</td>\n",
       "      <td>0</td>\n",
       "      <td>...</td>\n",
       "      <td>0</td>\n",
       "      <td>0</td>\n",
       "      <td>0</td>\n",
       "      <td>0</td>\n",
       "      <td>0</td>\n",
       "      <td>0</td>\n",
       "      <td>0</td>\n",
       "      <td>0</td>\n",
       "      <td>0</td>\n",
       "      <td>0</td>\n",
       "    </tr>\n",
       "    <tr>\n",
       "      <th>4</th>\n",
       "      <td>2006</td>\n",
       "      <td>NaN</td>\n",
       "      <td>18.995</td>\n",
       "      <td>10</td>\n",
       "      <td>0</td>\n",
       "      <td>0</td>\n",
       "      <td>0</td>\n",
       "      <td>0</td>\n",
       "      <td>0</td>\n",
       "      <td>0</td>\n",
       "      <td>...</td>\n",
       "      <td>0</td>\n",
       "      <td>0</td>\n",
       "      <td>2</td>\n",
       "      <td>0</td>\n",
       "      <td>0</td>\n",
       "      <td>0</td>\n",
       "      <td>0</td>\n",
       "      <td>0</td>\n",
       "      <td>1</td>\n",
       "      <td>1</td>\n",
       "    </tr>\n",
       "  </tbody>\n",
       "</table>\n",
       "<p>5 rows × 40 columns</p>\n",
       "</div>"
      ],
      "text/plain": [
       "   gradyear gender     age  friends  basketball  football  soccer  softball  \\\n",
       "0      2006      M  18.982        7           0         0       0         0   \n",
       "1      2006      F  18.801        0           0         1       0         0   \n",
       "2      2006      M  18.335       69           0         1       0         0   \n",
       "3      2006      F  18.875        0           0         0       0         0   \n",
       "4      2006    NaN  18.995       10           0         0       0         0   \n",
       "\n",
       "   volleyball  swimming  ...    blonde  mall  shopping  clothes  hollister  \\\n",
       "0           0         0  ...         0     0         0        0          0   \n",
       "1           0         0  ...         0     1         0        0          0   \n",
       "2           0         0  ...         0     0         0        0          0   \n",
       "3           0         0  ...         0     0         0        0          0   \n",
       "4           0         0  ...         0     0         2        0          0   \n",
       "\n",
       "   abercrombie  die  death  drunk  drugs  \n",
       "0            0    0      0      0      0  \n",
       "1            0    0      0      0      0  \n",
       "2            0    0      1      0      0  \n",
       "3            0    0      0      0      0  \n",
       "4            0    0      0      1      1  \n",
       "\n",
       "[5 rows x 40 columns]"
      ]
     },
     "execution_count": 81,
     "metadata": {},
     "output_type": "execute_result"
    }
   ],
   "source": [
    "df_sns = pd.read_csv('Рабочий стол/Техносфера/Алгоритмы обработки данных./Лекция 2/snsdata.csv', sep=',')\n",
    "df_sns.head()"
   ]
  },
  {
   "cell_type": "markdown",
   "metadata": {},
   "source": [
    "Данные устроены так: \n",
    "* Год выпуска\n",
    "* Пол\n",
    "* Возраст\n",
    "* Количество друзей\n",
    "* 36 ключевых слов, которые встречаются в профилe facebook (интересы, сообщества, встречи)"
   ]
  },
  {
   "cell_type": "markdown",
   "metadata": {},
   "source": [
    "#### Задание 3 (4 балла)\n",
    "\n",
    "* Удалите все признаки кроме 36 ключевых слов.\n",
    "* Нормализуйте данные - из каждого столбца вычтите его среднее значение и поделите на стандартное отклонение.\n",
    "* Используйте метод k-means чтобы выделить 9 кластеров\n",
    "* Попробуйте проинтерпретировать каждый кластер проанализировав полученные центройды (Некоторые кластеры могут быть очень большие и очень маленькие - плохо интерпретируются)"
   ]
  },
  {
   "cell_type": "code",
   "execution_count": 127,
   "metadata": {
    "collapsed": false
   },
   "outputs": [],
   "source": [
    "## Your Code Here\n",
    "from sklearn import preprocessing\n",
    "min_max_scaler = preprocessing.MinMaxScaler()\n",
    "work_data = df_sns.loc[:,df_sns.columns[4:]]\n",
    "work_data_scaled = min_max_scaler.fit_transform(work_data)\n",
    "#work_data_scaled = preprocessing.scale(work_data)\n",
    "\n",
    "    "
   ]
  },
  {
   "cell_type": "code",
   "execution_count": 136,
   "metadata": {
    "collapsed": true
   },
   "outputs": [
    {
     "name": "stdout",
     "output_type": "stream",
     "text": [
      "1 / 150\n",
      "2 / 150\n",
      "3 / 150\n",
      "4 / 150\n",
      "5 / 150\n",
      "6 / 150\n",
      "7 / 150\n",
      "8 / 150\n",
      "9 / 150\n",
      "10 / 150\n",
      "11 / 150\n",
      "12 / 150\n",
      "13 / 150\n",
      "14 / 150\n",
      "15 / 150\n",
      "16 / 150\n",
      "17 / 150\n",
      "18 / 150\n",
      "19 / 150\n",
      "20 / 150\n",
      "21 / 150\n",
      "22 / 150\n",
      "23 / 150\n",
      "24 / 150\n",
      "25 / 150\n",
      "26 / 150\n",
      "27 / 150\n",
      "28 / 150\n",
      "29 / 150\n",
      "30 / 150\n",
      "31 / 150\n",
      "32 / 150\n",
      "33 / 150\n",
      "34 / 150\n",
      "35 / 150\n",
      "36 / 150\n",
      "37 / 150\n",
      "38 / 150\n",
      "39 / 150\n",
      "40 / 150\n",
      "41 / 150\n",
      "42 / 150\n",
      "43 / 150\n",
      "44 / 150\n",
      "45 / 150\n",
      "46 / 150\n",
      "47 / 150\n"
     ]
    }
   ],
   "source": [
    "K = Kmeans(k = 9, max_iter = 150, eps = 0.0001, zippate = 0.1)\n",
    "K = K.fit(work_data_scaled)\n",
    "work_labels = K.prediction(work_data_scaled)\n"
   ]
  },
  {
   "cell_type": "code",
   "execution_count": 138,
   "metadata": {
    "collapsed": false
   },
   "outputs": [
    {
     "data": {
      "text/plain": [
       "Counter({0.0: 528,\n",
       "         1.0: 17277,\n",
       "         2.0: 1897,\n",
       "         3.0: 708,\n",
       "         4.0: 2084,\n",
       "         5.0: 672,\n",
       "         6.0: 1138,\n",
       "         7.0: 4887,\n",
       "         8.0: 809})"
      ]
     },
     "execution_count": 138,
     "metadata": {},
     "output_type": "execute_result"
    }
   ],
   "source": [
    "# Количеств элементов в кластере\n",
    "import collections\n",
    "collections.Counter(K.labels)"
   ]
  },
  {
   "cell_type": "code",
   "execution_count": 141,
   "metadata": {
    "collapsed": true
   },
   "outputs": [
    {
     "name": "stdout",
     "output_type": "stream",
     "text": [
      "basketball\n",
      "0   0.0153882575758\n",
      "1   0.00657183924678\n",
      "2   0.0114874363029\n",
      "3   0.0143596986817\n",
      "4   0.0368881957774\n",
      "5   0.0179191468254\n",
      "6   0.018014059754\n",
      "7   0.0108195211786\n",
      "8   0.0225587144623\n",
      "football\n",
      "0   0.0231060606061\n",
      "1   0.0052323898825\n",
      "2   0.0145844315586\n",
      "3   0.023352165725\n",
      "4   0.112635956494\n",
      "5   0.0335317460317\n",
      "6   0.0198008201523\n",
      "7   0.0110497237569\n",
      "8   0.0296662546354\n",
      "soccer\n",
      "0   0.0094696969697\n",
      "1   0.00607958771992\n",
      "2   0.0105234385677\n",
      "3   0.011247122829\n",
      "4   0.0144309376555\n",
      "5   0.0096450617284\n",
      "6   0.0110004556402\n",
      "7   0.0107162615859\n",
      "8   0.0100260953166\n",
      "softball\n",
      "0   0.0109180035651\n",
      "1   0.00314937574266\n",
      "2   0.00945765760179\n",
      "3   0.00938850116318\n",
      "4   0.0624647171729\n",
      "5   0.0128676470588\n",
      "6   0.0111134084565\n",
      "7   0.00699334368493\n",
      "8   0.0173780266124\n",
      "volleyball\n",
      "0   0.01204004329\n",
      "1   0.0040516293338\n",
      "2   0.0102417350704\n",
      "3   0.0193704600484\n",
      "4   0.0549081436797\n",
      "5   0.0141369047619\n",
      "6   0.0109214160181\n",
      "7   0.0100850653337\n",
      "8   0.0143033727706\n",
      "swimming\n",
      "0   0.00421554252199\n",
      "1   0.00283427342337\n",
      "2   0.00522046695121\n",
      "3   0.00783670493895\n",
      "4   0.00523187418736\n",
      "5   0.00604838709677\n",
      "6   0.0055558705142\n",
      "7   0.00701664059354\n",
      "8   0.00968938155429\n",
      "cheerleading\n",
      "0   0.0107323232323\n",
      "1   0.00259818769977\n",
      "2   0.00743864581503\n",
      "3   0.0152228499686\n",
      "4   0.00602473875027\n",
      "5   0.32457010582\n",
      "6   0.00820152314001\n",
      "7   0.00575222244958\n",
      "8   0.0146957835462\n",
      "baseball\n",
      "0   0.00461647727273\n",
      "1   0.00335344677895\n",
      "2   0.00678703215604\n",
      "3   0.00653248587571\n",
      "4   0.0358685220729\n",
      "5   0.0111607142857\n",
      "6   0.00779876977153\n",
      "7   0.00360650705955\n",
      "8   0.0125154511743\n",
      "tennis\n",
      "0   0.00782828282828\n",
      "1   0.00477706391928\n",
      "2   0.00439290107187\n",
      "3   0.0116760828625\n",
      "4   0.00879718490083\n",
      "5   0.00456349206349\n",
      "6   0.00685413005272\n",
      "7   0.00691630857377\n",
      "8   0.0103831891224\n",
      "sports\n",
      "0   0.0113636363636\n",
      "1   0.00671412861029\n",
      "2   0.00997188543314\n",
      "3   0.0157721280603\n",
      "4   0.049824056302\n",
      "5   0.0131448412698\n",
      "6   0.0125219683656\n",
      "7   0.00968556033013\n",
      "8   0.0291512154924\n",
      "cute\n",
      "0   0.0382996632997\n",
      "1   0.0111194716161\n",
      "2   0.0284952849528\n",
      "3   0.0314657878217\n",
      "4   0.0197003625507\n",
      "5   0.0300099206349\n",
      "6   0.0368580355399\n",
      "7   0.022144919628\n",
      "8   0.047040241725\n",
      "sex\n",
      "0   0.00267477405635\n",
      "1   0.00121751969204\n",
      "2   0.00269585402621\n",
      "3   0.00275052036872\n",
      "4   0.00242869650133\n",
      "5   0.00237573099415\n",
      "6   0.00262849566799\n",
      "7   0.00160468697834\n",
      "8   0.010018866697\n",
      "sexy\n",
      "0   0.0115740740741\n",
      "1   0.00576231727473\n",
      "2   0.0151994377087\n",
      "3   0.0123979912116\n",
      "4   0.00906376626146\n",
      "5   0.011078042328\n",
      "6   0.0117164616286\n",
      "7   0.00771889138986\n",
      "8   0.0181293778327\n",
      "hot\n",
      "0   0.0172348484848\n",
      "1   0.0\n",
      "2   0.146810753822\n",
      "3   0.0218926553672\n",
      "4   0.00542226487524\n",
      "5   0.0214285714286\n",
      "6   0.0163444639719\n",
      "7   0.00294659300184\n",
      "8   0.0222496909765\n",
      "kissed\n",
      "0   0.00670163170163\n",
      "1   0.00227737187279\n",
      "2   0.00458213373343\n",
      "3   0.00809430682312\n",
      "4   0.00465081943009\n",
      "5   0.00641025641026\n",
      "6   0.00611734486954\n",
      "7   0.00325038170342\n",
      "8   0.030807264429\n",
      "dance\n",
      "0   0.0318181818182\n",
      "1   0.0100268179275\n",
      "2   0.0194341943419\n",
      "3   0.0222693032015\n",
      "4   0.0156909788868\n",
      "5   0.021626984127\n",
      "6   0.0218512009373\n",
      "7   0.0175704249369\n",
      "8   0.0303255047384\n",
      "band\n",
      "0   0.00794880624426\n",
      "1   0.00418756062097\n",
      "2   0.00469641060047\n",
      "3   0.00280345831193\n",
      "4   0.00554731576805\n",
      "5   0.00390061327561\n",
      "6   0.00523246525004\n",
      "7   0.00430641590863\n",
      "8   0.00934561935798\n",
      "marching\n",
      "0   0.00413223140496\n",
      "1   0.00373591795714\n",
      "2   0.00297119854315\n",
      "3   0.000770416024653\n",
      "4   0.00440586285116\n",
      "5   0.00229978354978\n",
      "6   0.00263620386643\n",
      "7   0.00373904793794\n",
      "8   0.00719181930554\n",
      "music\n",
      "0   0.0149147727273\n",
      "1   0.00947339671239\n",
      "2   0.0132693068002\n",
      "3   0.0142346398305\n",
      "4   0.0129633517274\n",
      "5   0.01123046875\n",
      "6   0.0146226933216\n",
      "7   0.0135659658277\n",
      "8   0.0266532756489\n",
      "rock\n",
      "0   0.017766955267\n",
      "1   0.00903485779332\n",
      "2   0.0149609659362\n",
      "3   0.0131826741996\n",
      "4   0.0173201718307\n",
      "5   0.016156462585\n",
      "6   0.0183278935476\n",
      "7   0.0105527785086\n",
      "8   0.0309612101948\n",
      "god\n",
      "0   0.00680859225163\n",
      "1   0.0051960497713\n",
      "2   0.00695968985006\n",
      "3   0.00643638704141\n",
      "4   0.00725236278821\n",
      "5   0.0077606992164\n",
      "6   0.00694089119263\n",
      "7   0.00589525815066\n",
      "8   0.0105459154136\n",
      "church\n",
      "0   0.00998622589532\n",
      "1   0.00398190973812\n",
      "2   0.00662529352566\n",
      "3   0.00561761684643\n",
      "4   0.00812467283197\n",
      "5   0.00818452380952\n",
      "6   0.00998562070618\n",
      "7   0.00729207359042\n",
      "8   0.0113214967974\n",
      "jesus\n",
      "0   0.00454545454545\n",
      "1   0.00344195558643\n",
      "2   0.00397118256897\n",
      "3   0.00395480225989\n",
      "4   0.00487843889955\n",
      "5   0.00391865079365\n",
      "6   0.00339777387229\n",
      "7   0.00390832821772\n",
      "8   0.00506798516687\n",
      "bible\n",
      "0   0.00241046831956\n",
      "1   0.00177850742185\n",
      "2   0.00234820530023\n",
      "3   0.00115562403698\n",
      "4   0.00266096667248\n",
      "5   0.00257034632035\n",
      "6   0.00135804441604\n",
      "7   0.00202764291162\n",
      "8   0.00269693223958\n",
      "hair\n",
      "0   0.02457002457\n",
      "1   0.00671256427464\n",
      "2   0.0144324609269\n",
      "3   0.0246602534738\n",
      "4   0.0128391347201\n",
      "5   0.0160875160875\n",
      "6   0.022182111813\n",
      "7   0.0115751110226\n",
      "8   0.0611365382688\n",
      "dress\n",
      "0   0.292929292929\n",
      "1   0.00459827773598\n",
      "2   0.00802436595795\n",
      "3   0.0119271814187\n",
      "4   0.00773085945831\n",
      "5   0.0127314814815\n",
      "6   0.0165983206405\n",
      "7   0.00866243776004\n",
      "8   0.0324131300646\n",
      "blonde\n",
      "0   0.000388054860532\n",
      "1   0.000134700302447\n",
      "2   0.000382061487718\n",
      "3   0.000647903384647\n",
      "4   0.000497455493141\n",
      "5   0.000837337993301\n",
      "6   0.000481019869614\n",
      "7   0.000289102524391\n",
      "8   0.00222648113917\n",
      "mall\n",
      "0   0.0339330808081\n",
      "1   0.00769809573421\n",
      "2   0.0188455455983\n",
      "3   0.0401365348399\n",
      "4   0.0141554702495\n",
      "5   0.0318700396825\n",
      "6   0.230008787346\n",
      "7   0.0158583998363\n",
      "8   0.0471775854965\n",
      "shopping\n",
      "0   0.0740358126722\n",
      "1   0.0\n",
      "2   0.0280346959314\n",
      "3   0.0781972265023\n",
      "4   0.01718722736\n",
      "5   0.0633116883117\n",
      "6   0.0576769451989\n",
      "7   0.12495116915\n",
      "8   0.0747274974716\n",
      "clothes\n",
      "0   0.0274621212121\n",
      "1   0.00649707703884\n",
      "2   0.0156826568266\n",
      "3   0.0284251412429\n",
      "4   0.0135556621881\n",
      "5   0.0238095238095\n",
      "6   0.0285588752197\n",
      "7   0.0178279107837\n",
      "8   0.267459826947\n",
      "hollister\n",
      "0   0.0094696969697\n",
      "1   0.00137626774196\n",
      "2   0.00509576524337\n",
      "3   0.170747018205\n",
      "4   0.00330560887183\n",
      "5   0.0181878306878\n",
      "6   0.0100566295645\n",
      "7   0.00459268353682\n",
      "8   0.0254085977201\n",
      "abercrombie\n",
      "0   0.00733901515152\n",
      "1   0.00103461249059\n",
      "2   0.00487612018977\n",
      "3   0.14936440678\n",
      "4   0.00311900191939\n",
      "5   0.0150669642857\n",
      "6   0.00724956063269\n",
      "7   0.00312052383876\n",
      "8   0.0185414091471\n",
      "die\n",
      "0   0.0115358126722\n",
      "1   0.00719295753156\n",
      "2   0.00910528585805\n",
      "3   0.00975860297894\n",
      "4   0.00778659919735\n",
      "5   0.00831980519481\n",
      "6   0.0121425147787\n",
      "7   0.00780363487546\n",
      "8   0.0280930441623\n",
      "death\n",
      "0   0.0123106060606\n",
      "1   0.00704073954638\n",
      "2   0.00884855787333\n",
      "3   0.0131154156578\n",
      "4   0.00791746641075\n",
      "5   0.00860969387755\n",
      "6   0.0122395179513\n",
      "7   0.00776111549592\n",
      "8   0.0203072576373\n",
      "drunk\n",
      "0   0.015625\n",
      "1   0.00768362562945\n",
      "2   0.0141012124407\n",
      "3   0.0158898305085\n",
      "4   0.0110364683301\n",
      "5   0.0113467261905\n",
      "6   0.0166959578207\n",
      "7   0.00938714958052\n",
      "8   0.0684487021014\n",
      "drugs\n",
      "0   0.00568181818182\n",
      "1   0.00260100133125\n",
      "2   0.00369003690037\n",
      "3   0.00688559322034\n",
      "4   0.00443857965451\n",
      "5   0.00427827380952\n",
      "6   0.00862258347979\n",
      "7   0.00292868835687\n",
      "8   0.0213226205192\n"
     ]
    }
   ],
   "source": [
    "# Координаты центроидов.\n",
    "for i in range(len(work_data.columns)):\n",
    "    print((work_data.columns[i]))\n",
    "    for j in range(9):\n",
    "        print(j, \" \", K.centroids[j][i])"
   ]
  },
  {
   "cell_type": "code",
   "execution_count": 144,
   "metadata": {
    "collapsed": true
   },
   "outputs": [
    {
     "name": "stdout",
     "output_type": "stream",
     "text": [
      "0  _____________\n",
      "0.00413223140496   marching\n",
      "0.00241046831956   bible\n",
      "0.292929292929   dress\n",
      "0.000388054860532   blonde\n",
      "1  _____________\n",
      "0.00373591795714   marching\n",
      "0.00177850742185   bible\n",
      "0.000134700302447   blonde\n",
      "2  _____________\n",
      "0.146810753822   hot\n",
      "0.00297119854315   marching\n",
      "0.00234820530023   bible\n",
      "0.000382061487718   blonde\n",
      "3  _____________\n",
      "0.0116760828625   tennis\n",
      "0.000770416024653   marching\n",
      "0.00115562403698   bible\n",
      "0.000647903384647   blonde\n",
      "0.170747018205   hollister\n",
      "0.14936440678   abercrombie\n",
      "4  _____________\n",
      "0.0624647171729   softball\n",
      "0.0549081436797   volleyball\n",
      "0.0358685220729   baseball\n",
      "0.00440586285116   marching\n",
      "0.00266096667248   bible\n",
      "0.000497455493141   blonde\n",
      "5  _____________\n",
      "0.32457010582   cheerleading\n",
      "0.00229978354978   marching\n",
      "0.00257034632035   bible\n",
      "0.000837337993301   blonde\n",
      "0.0181878306878   hollister\n",
      "0.0150669642857   abercrombie\n",
      "6  _____________\n",
      "0.00263620386643   marching\n",
      "0.00135804441604   bible\n",
      "0.000481019869614   blonde\n",
      "0.230008787346   mall\n",
      "0.00862258347979   drugs\n",
      "7  _____________\n",
      "0.00373904793794   marching\n",
      "0.00202764291162   bible\n",
      "0.000289102524391   blonde\n",
      "8  _____________\n",
      "0.0103831891224   tennis\n",
      "0.030807264429   kissed\n",
      "0.00719181930554   marching\n",
      "0.00269693223958   bible\n",
      "0.00222648113917   blonde\n",
      "0.267459826947   clothes\n",
      "0.0254085977201   hollister\n",
      "0.0185414091471   abercrombie\n",
      "0.0684487021014   drunk\n",
      "0.0213226205192   drugs\n"
     ]
    }
   ],
   "source": [
    "for i in range(9):\n",
    "    print(i, \" _____________\")\n",
    "    for j in range(len(work_data.columns)):\n",
    "        if (K.centroids[i][j] > work_data[work_data.columns[j]].mean() - 0.15* work_data[work_data.columns[j]].std()):\n",
    "            print(K.centroids[i][j], \" \", work_data.columns[j])"
   ]
  },
  {
   "cell_type": "markdown",
   "metadata": {},
   "source": [
    "Анализ кластеров.\n",
    "\n",
    "1ый кластер - непонятно,\n",
    "2ой кластер - непонятно,\n",
    "3ий кластер - непонятно,\n",
    "4ий кластер - скорее девушки (есть hot и blonde),\n",
    "5ый кластер - спорт,\n",
    "6ый кластер - скорее всего это девушки (есть чирлидинг,одежда и холестерин),\n",
    "7ый кластер - тусовщики (есть магазины и наркотики),\n",
    "8ой кластер - непонятно,\n",
    "9ой кластер - еще более непонятно."
   ]
  }
 ],
 "metadata": {
  "anaconda-cloud": {},
  "kernelspec": {
   "display_name": "Python [conda root]",
   "language": "python",
   "name": "conda-root-py"
  },
  "language_info": {
   "codemirror_mode": {
    "name": "ipython",
    "version": 3
   },
   "file_extension": ".py",
   "mimetype": "text/x-python",
   "name": "python",
   "nbconvert_exporter": "python",
   "pygments_lexer": "ipython3",
   "version": "3.5.2"
  },
  "nav_menu": {},
  "toc": {
   "navigate_menu": true,
   "number_sections": false,
   "sideBar": true,
   "threshold": 6,
   "toc_cell": false,
   "toc_section_display": "block",
   "toc_window_display": true
  }
 },
 "nbformat": 4,
 "nbformat_minor": 2
}
